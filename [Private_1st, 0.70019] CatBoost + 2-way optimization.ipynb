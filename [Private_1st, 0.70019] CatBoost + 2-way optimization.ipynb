{
  "cells": [
    {
      "cell_type": "code",
      "source": [
        "# 해당 모든 코드는 Google Colab을 통해서 실행되었음을 알려드립니다."
      ],
      "metadata": {
        "id": "yBDsFxV8iD-2"
      },
      "execution_count": null,
      "outputs": []
    },
    {
      "cell_type": "code",
      "source": [
        "import sys\n",
        "print(sys.version)"
      ],
      "metadata": {
        "colab": {
          "base_uri": "https://localhost:8080/"
        },
        "id": "Cax0hvibmAvk",
        "outputId": "c308e95b-1678-44bb-eb55-df050900df05"
      },
      "execution_count": null,
      "outputs": [
        {
          "output_type": "stream",
          "name": "stdout",
          "text": [
            "3.11.12 (main, Apr  9 2025, 08:55:54) [GCC 11.4.0]\n"
          ]
        }
      ]
    },
    {
      "cell_type": "code",
      "source": [
        "!pip install catboost==1.2.8\n",
        "!pip install optuna==4.3.0"
      ],
      "metadata": {
        "colab": {
          "base_uri": "https://localhost:8080/"
        },
        "id": "p6Rf9D-ClSxE",
        "outputId": "6e57cca8-fb63-4bc5-fa01-9689ebe515be"
      },
      "execution_count": null,
      "outputs": [
        {
          "output_type": "stream",
          "name": "stdout",
          "text": [
            "Collecting catboost==1.2.8\n",
            "  Downloading catboost-1.2.8-cp311-cp311-manylinux2014_x86_64.whl.metadata (1.2 kB)\n",
            "Collecting graphviz (from catboost==1.2.8)\n",
            "  Downloading graphviz-0.20.3-py3-none-any.whl.metadata (12 kB)\n",
            "Requirement already satisfied: matplotlib in /usr/local/lib/python3.11/dist-packages (from catboost==1.2.8) (3.10.0)\n",
            "Requirement already satisfied: numpy<3.0,>=1.16.0 in /usr/local/lib/python3.11/dist-packages (from catboost==1.2.8) (2.0.2)\n",
            "Requirement already satisfied: pandas>=0.24 in /usr/local/lib/python3.11/dist-packages (from catboost==1.2.8) (2.2.2)\n",
            "Requirement already satisfied: scipy in /usr/local/lib/python3.11/dist-packages (from catboost==1.2.8) (1.15.2)\n",
            "Requirement already satisfied: plotly in /usr/local/lib/python3.11/dist-packages (from catboost==1.2.8) (5.24.1)\n",
            "Requirement already satisfied: six in /usr/local/lib/python3.11/dist-packages (from catboost==1.2.8) (1.17.0)\n",
            "Requirement already satisfied: python-dateutil>=2.8.2 in /usr/local/lib/python3.11/dist-packages (from pandas>=0.24->catboost==1.2.8) (2.9.0.post0)\n",
            "Requirement already satisfied: pytz>=2020.1 in /usr/local/lib/python3.11/dist-packages (from pandas>=0.24->catboost==1.2.8) (2025.2)\n",
            "Requirement already satisfied: tzdata>=2022.7 in /usr/local/lib/python3.11/dist-packages (from pandas>=0.24->catboost==1.2.8) (2025.2)\n",
            "Requirement already satisfied: contourpy>=1.0.1 in /usr/local/lib/python3.11/dist-packages (from matplotlib->catboost==1.2.8) (1.3.2)\n",
            "Requirement already satisfied: cycler>=0.10 in /usr/local/lib/python3.11/dist-packages (from matplotlib->catboost==1.2.8) (0.12.1)\n",
            "Requirement already satisfied: fonttools>=4.22.0 in /usr/local/lib/python3.11/dist-packages (from matplotlib->catboost==1.2.8) (4.57.0)\n",
            "Requirement already satisfied: kiwisolver>=1.3.1 in /usr/local/lib/python3.11/dist-packages (from matplotlib->catboost==1.2.8) (1.4.8)\n",
            "Requirement already satisfied: packaging>=20.0 in /usr/local/lib/python3.11/dist-packages (from matplotlib->catboost==1.2.8) (25.0)\n",
            "Requirement already satisfied: pillow>=8 in /usr/local/lib/python3.11/dist-packages (from matplotlib->catboost==1.2.8) (11.2.1)\n",
            "Requirement already satisfied: pyparsing>=2.3.1 in /usr/local/lib/python3.11/dist-packages (from matplotlib->catboost==1.2.8) (3.2.3)\n",
            "Requirement already satisfied: tenacity>=6.2.0 in /usr/local/lib/python3.11/dist-packages (from plotly->catboost==1.2.8) (9.1.2)\n",
            "Downloading catboost-1.2.8-cp311-cp311-manylinux2014_x86_64.whl (99.2 MB)\n",
            "\u001b[2K   \u001b[90m━━━━━━━━━━━━━━━━━━━━━━━━━━━━━━━━━━━━━━━━\u001b[0m \u001b[32m99.2/99.2 MB\u001b[0m \u001b[31m11.2 MB/s\u001b[0m eta \u001b[36m0:00:00\u001b[0m\n",
            "\u001b[?25hDownloading graphviz-0.20.3-py3-none-any.whl (47 kB)\n",
            "\u001b[2K   \u001b[90m━━━━━━━━━━━━━━━━━━━━━━━━━━━━━━━━━━━━━━━━\u001b[0m \u001b[32m47.1/47.1 kB\u001b[0m \u001b[31m3.3 MB/s\u001b[0m eta \u001b[36m0:00:00\u001b[0m\n",
            "\u001b[?25hInstalling collected packages: graphviz, catboost\n",
            "Successfully installed catboost-1.2.8 graphviz-0.20.3\n",
            "Collecting optuna==4.3.0\n",
            "  Downloading optuna-4.3.0-py3-none-any.whl.metadata (17 kB)\n",
            "Collecting alembic>=1.5.0 (from optuna==4.3.0)\n",
            "  Downloading alembic-1.15.2-py3-none-any.whl.metadata (7.3 kB)\n",
            "Collecting colorlog (from optuna==4.3.0)\n",
            "  Downloading colorlog-6.9.0-py3-none-any.whl.metadata (10 kB)\n",
            "Requirement already satisfied: numpy in /usr/local/lib/python3.11/dist-packages (from optuna==4.3.0) (2.0.2)\n",
            "Requirement already satisfied: packaging>=20.0 in /usr/local/lib/python3.11/dist-packages (from optuna==4.3.0) (25.0)\n",
            "Collecting sqlalchemy>=1.4.2 (from optuna==4.3.0)\n",
            "  Downloading sqlalchemy-2.0.40-cp311-cp311-manylinux_2_17_x86_64.manylinux2014_x86_64.whl.metadata (9.6 kB)\n",
            "Requirement already satisfied: tqdm in /usr/local/lib/python3.11/dist-packages (from optuna==4.3.0) (4.67.1)\n",
            "Requirement already satisfied: PyYAML in /usr/local/lib/python3.11/dist-packages (from optuna==4.3.0) (6.0.2)\n",
            "Requirement already satisfied: Mako in /usr/lib/python3/dist-packages (from alembic>=1.5.0->optuna==4.3.0) (1.1.3)\n",
            "Requirement already satisfied: typing-extensions>=4.12 in /usr/local/lib/python3.11/dist-packages (from alembic>=1.5.0->optuna==4.3.0) (4.13.2)\n",
            "Collecting greenlet>=1 (from sqlalchemy>=1.4.2->optuna==4.3.0)\n",
            "  Downloading greenlet-3.2.1-cp311-cp311-manylinux_2_24_x86_64.manylinux_2_28_x86_64.whl.metadata (4.1 kB)\n",
            "Downloading optuna-4.3.0-py3-none-any.whl (386 kB)\n",
            "\u001b[2K   \u001b[90m━━━━━━━━━━━━━━━━━━━━━━━━━━━━━━━━━━━━━━━━\u001b[0m \u001b[32m386.6/386.6 kB\u001b[0m \u001b[31m6.9 MB/s\u001b[0m eta \u001b[36m0:00:00\u001b[0m\n",
            "\u001b[?25hDownloading alembic-1.15.2-py3-none-any.whl (231 kB)\n",
            "\u001b[2K   \u001b[90m━━━━━━━━━━━━━━━━━━━━━━━━━━━━━━━━━━━━━━━━\u001b[0m \u001b[32m231.9/231.9 kB\u001b[0m \u001b[31m13.2 MB/s\u001b[0m eta \u001b[36m0:00:00\u001b[0m\n",
            "\u001b[?25hDownloading sqlalchemy-2.0.40-cp311-cp311-manylinux_2_17_x86_64.manylinux2014_x86_64.whl (3.2 MB)\n",
            "\u001b[2K   \u001b[90m━━━━━━━━━━━━━━━━━━━━━━━━━━━━━━━━━━━━━━━━\u001b[0m \u001b[32m3.2/3.2 MB\u001b[0m \u001b[31m58.0 MB/s\u001b[0m eta \u001b[36m0:00:00\u001b[0m\n",
            "\u001b[?25hDownloading colorlog-6.9.0-py3-none-any.whl (11 kB)\n",
            "Downloading greenlet-3.2.1-cp311-cp311-manylinux_2_24_x86_64.manylinux_2_28_x86_64.whl (583 kB)\n",
            "\u001b[2K   \u001b[90m━━━━━━━━━━━━━━━━━━━━━━━━━━━━━━━━━━━━━━━━\u001b[0m \u001b[32m583.9/583.9 kB\u001b[0m \u001b[31m30.5 MB/s\u001b[0m eta \u001b[36m0:00:00\u001b[0m\n",
            "\u001b[?25hInstalling collected packages: greenlet, colorlog, sqlalchemy, alembic, optuna\n",
            "Successfully installed alembic-1.15.2 colorlog-6.9.0 greenlet-3.2.1 optuna-4.3.0 sqlalchemy-2.0.40\n"
          ]
        }
      ]
    },
    {
      "cell_type": "code",
      "source": [
        "import pandas as pd\n",
        "import numpy as np\n",
        "import catboost\n",
        "import sklearn\n",
        "import optuna\n",
        "\n",
        "versions = {\n",
        "    \"pandas\": pd.__version__,\n",
        "    \"numpy\": np.__version__,\n",
        "    \"catboost\": catboost.__version__,\n",
        "    \"sklearn\": sklearn.__version__,\n",
        "    \"optuna\": optuna.__version__,\n",
        "}\n",
        "\n",
        "import pprint\n",
        "pprint.pprint(versions)"
      ],
      "metadata": {
        "colab": {
          "base_uri": "https://localhost:8080/"
        },
        "id": "EgCInqQmlHsl",
        "outputId": "6ded7fca-9c79-4dcd-fa1b-313522703b1a"
      },
      "execution_count": null,
      "outputs": [
        {
          "output_type": "stream",
          "name": "stdout",
          "text": [
            "{'catboost': '1.2.8',\n",
            " 'numpy': '2.0.2',\n",
            " 'optuna': '4.3.0',\n",
            " 'pandas': '2.2.2',\n",
            " 'sklearn': '1.6.1'}\n"
          ]
        }
      ]
    },
    {
      "cell_type": "code",
      "source": [
        "pip freeze > requirements.txt"
      ],
      "metadata": {
        "id": "UiD4vkzPmhXE"
      },
      "execution_count": null,
      "outputs": []
    },
    {
      "cell_type": "markdown",
      "metadata": {
        "id": "r8bCZ5tf5EFS"
      },
      "source": [
        "### Organize the files"
      ]
    },
    {
      "cell_type": "code",
      "execution_count": null,
      "metadata": {
        "id": "VnBXFiSUGb0Z"
      },
      "outputs": [],
      "source": [
        "# 파일 정리에는 v2-8 TPU을 사용."
      ]
    },
    {
      "cell_type": "code",
      "source": [
        "import pandas as pd\n",
        "from google.colab import drive\n",
        "import os"
      ],
      "metadata": {
        "id": "bbGUyI4VoADg"
      },
      "execution_count": null,
      "outputs": []
    },
    {
      "cell_type": "code",
      "execution_count": null,
      "metadata": {
        "colab": {
          "base_uri": "https://localhost:8080/"
        },
        "id": "PZrpGqKghFiS",
        "outputId": "9dbe65fd-144a-4f6a-955e-e2a903020d5d"
      },
      "outputs": [
        {
          "output_type": "stream",
          "name": "stdout",
          "text": [
            "Mounted at /content/drive\n"
          ]
        }
      ],
      "source": [
        "drive.mount('/content/drive')"
      ]
    },
    {
      "cell_type": "code",
      "execution_count": null,
      "metadata": {
        "colab": {
          "base_uri": "https://localhost:8080/"
        },
        "id": "FGhwOWy_hQqa",
        "outputId": "3d28d75c-e298-40cb-c013-aa7abf583e6d"
      },
      "outputs": [
        {
          "output_type": "stream",
          "name": "stdout",
          "text": [
            "✅ /content/drive/MyDrive/base_file/201807_train_회원정보.parquet 변환 완료\n",
            "✅ /content/drive/MyDrive/base_file/201808_train_회원정보.parquet 변환 완료\n",
            "✅ /content/drive/MyDrive/base_file/201809_train_회원정보.parquet 변환 완료\n",
            "✅ /content/drive/MyDrive/base_file/201810_train_회원정보.parquet 변환 완료\n",
            "✅ /content/drive/MyDrive/base_file/201811_train_회원정보.parquet 변환 완료\n",
            "✅ /content/drive/MyDrive/base_file/201812_train_회원정보.parquet 변환 완료\n",
            "✅ /content/drive/MyDrive/base_file/train_회원정보.csv 저장 완료 (Shape: (2400000, 78))\n",
            "✅ /content/drive/MyDrive/base_file/201807_train_신용정보.parquet 변환 완료\n",
            "✅ /content/drive/MyDrive/base_file/201808_train_신용정보.parquet 변환 완료\n",
            "✅ /content/drive/MyDrive/base_file/201809_train_신용정보.parquet 변환 완료\n",
            "✅ /content/drive/MyDrive/base_file/201810_train_신용정보.parquet 변환 완료\n",
            "✅ /content/drive/MyDrive/base_file/201811_train_신용정보.parquet 변환 완료\n",
            "✅ /content/drive/MyDrive/base_file/201812_train_신용정보.parquet 변환 완료\n",
            "✅ /content/drive/MyDrive/base_file/train_신용정보.csv 저장 완료 (Shape: (2400000, 42))\n",
            "✅ /content/drive/MyDrive/base_file/201807_train_승인매출정보.parquet 변환 완료\n",
            "✅ /content/drive/MyDrive/base_file/201808_train_승인매출정보.parquet 변환 완료\n",
            "✅ /content/drive/MyDrive/base_file/201809_train_승인매출정보.parquet 변환 완료\n",
            "✅ /content/drive/MyDrive/base_file/201810_train_승인매출정보.parquet 변환 완료\n",
            "✅ /content/drive/MyDrive/base_file/201811_train_승인매출정보.parquet 변환 완료\n",
            "✅ /content/drive/MyDrive/base_file/201812_train_승인매출정보.parquet 변환 완료\n",
            "✅ /content/drive/MyDrive/base_file/train_승인매출정보.csv 저장 완료 (Shape: (2400000, 406))\n",
            "✅ /content/drive/MyDrive/base_file/201807_train_청구입금정보.parquet 변환 완료\n",
            "✅ /content/drive/MyDrive/base_file/201808_train_청구입금정보.parquet 변환 완료\n",
            "✅ /content/drive/MyDrive/base_file/201809_train_청구입금정보.parquet 변환 완료\n",
            "✅ /content/drive/MyDrive/base_file/201810_train_청구입금정보.parquet 변환 완료\n",
            "✅ /content/drive/MyDrive/base_file/201811_train_청구입금정보.parquet 변환 완료\n",
            "✅ /content/drive/MyDrive/base_file/201812_train_청구입금정보.parquet 변환 완료\n",
            "✅ /content/drive/MyDrive/base_file/train_청구입금정보.csv 저장 완료 (Shape: (2400000, 46))\n",
            "✅ /content/drive/MyDrive/base_file/201807_train_잔액정보.parquet 변환 완료\n",
            "✅ /content/drive/MyDrive/base_file/201808_train_잔액정보.parquet 변환 완료\n",
            "✅ /content/drive/MyDrive/base_file/201809_train_잔액정보.parquet 변환 완료\n",
            "✅ /content/drive/MyDrive/base_file/201810_train_잔액정보.parquet 변환 완료\n",
            "✅ /content/drive/MyDrive/base_file/201811_train_잔액정보.parquet 변환 완료\n",
            "✅ /content/drive/MyDrive/base_file/201812_train_잔액정보.parquet 변환 완료\n",
            "✅ /content/drive/MyDrive/base_file/train_잔액정보.csv 저장 완료 (Shape: (2400000, 82))\n",
            "✅ /content/drive/MyDrive/base_file/201807_train_채널정보.parquet 변환 완료\n",
            "✅ /content/drive/MyDrive/base_file/201808_train_채널정보.parquet 변환 완료\n",
            "✅ /content/drive/MyDrive/base_file/201809_train_채널정보.parquet 변환 완료\n",
            "✅ /content/drive/MyDrive/base_file/201810_train_채널정보.parquet 변환 완료\n",
            "✅ /content/drive/MyDrive/base_file/201811_train_채널정보.parquet 변환 완료\n",
            "✅ /content/drive/MyDrive/base_file/201812_train_채널정보.parquet 변환 완료\n",
            "✅ /content/drive/MyDrive/base_file/train_채널정보.csv 저장 완료 (Shape: (2400000, 105))\n",
            "✅ /content/drive/MyDrive/base_file/201807_train_마케팅정보.parquet 변환 완료\n",
            "✅ /content/drive/MyDrive/base_file/201808_train_마케팅정보.parquet 변환 완료\n",
            "✅ /content/drive/MyDrive/base_file/201809_train_마케팅정보.parquet 변환 완료\n",
            "✅ /content/drive/MyDrive/base_file/201810_train_마케팅정보.parquet 변환 완료\n",
            "✅ /content/drive/MyDrive/base_file/201811_train_마케팅정보.parquet 변환 완료\n",
            "✅ /content/drive/MyDrive/base_file/201812_train_마케팅정보.parquet 변환 완료\n",
            "✅ /content/drive/MyDrive/base_file/train_마케팅정보.csv 저장 완료 (Shape: (2400000, 64))\n",
            "✅ /content/drive/MyDrive/base_file/201807_train_성과정보.parquet 변환 완료\n",
            "✅ /content/drive/MyDrive/base_file/201808_train_성과정보.parquet 변환 완료\n",
            "✅ /content/drive/MyDrive/base_file/201809_train_성과정보.parquet 변환 완료\n",
            "✅ /content/drive/MyDrive/base_file/201810_train_성과정보.parquet 변환 완료\n",
            "✅ /content/drive/MyDrive/base_file/201811_train_성과정보.parquet 변환 완료\n",
            "✅ /content/drive/MyDrive/base_file/201812_train_성과정보.parquet 변환 완료\n",
            "✅ /content/drive/MyDrive/base_file/train_성과정보.csv 저장 완료 (Shape: (2400000, 49))\n",
            "✅ /content/drive/MyDrive/base_file/201807_test_회원정보.parquet 변환 완료\n",
            "✅ /content/drive/MyDrive/base_file/201808_test_회원정보.parquet 변환 완료\n",
            "✅ /content/drive/MyDrive/base_file/201809_test_회원정보.parquet 변환 완료\n",
            "✅ /content/drive/MyDrive/base_file/201810_test_회원정보.parquet 변환 완료\n",
            "✅ /content/drive/MyDrive/base_file/201811_test_회원정보.parquet 변환 완료\n",
            "✅ /content/drive/MyDrive/base_file/201812_test_회원정보.parquet 변환 완료\n",
            "✅ /content/drive/MyDrive/base_file/test_회원정보.csv 저장 완료 (Shape: (600000, 77))\n",
            "✅ /content/drive/MyDrive/base_file/201807_test_신용정보.parquet 변환 완료\n",
            "✅ /content/drive/MyDrive/base_file/201808_test_신용정보.parquet 변환 완료\n",
            "✅ /content/drive/MyDrive/base_file/201809_test_신용정보.parquet 변환 완료\n",
            "✅ /content/drive/MyDrive/base_file/201810_test_신용정보.parquet 변환 완료\n",
            "✅ /content/drive/MyDrive/base_file/201811_test_신용정보.parquet 변환 완료\n",
            "✅ /content/drive/MyDrive/base_file/201812_test_신용정보.parquet 변환 완료\n",
            "✅ /content/drive/MyDrive/base_file/test_신용정보.csv 저장 완료 (Shape: (600000, 42))\n",
            "✅ /content/drive/MyDrive/base_file/201807_test_승인매출정보.parquet 변환 완료\n",
            "✅ /content/drive/MyDrive/base_file/201808_test_승인매출정보.parquet 변환 완료\n",
            "✅ /content/drive/MyDrive/base_file/201809_test_승인매출정보.parquet 변환 완료\n",
            "✅ /content/drive/MyDrive/base_file/201810_test_승인매출정보.parquet 변환 완료\n",
            "✅ /content/drive/MyDrive/base_file/201811_test_승인매출정보.parquet 변환 완료\n",
            "✅ /content/drive/MyDrive/base_file/201812_test_승인매출정보.parquet 변환 완료\n",
            "✅ /content/drive/MyDrive/base_file/test_승인매출정보.csv 저장 완료 (Shape: (600000, 406))\n",
            "✅ /content/drive/MyDrive/base_file/201807_test_청구입금정보.parquet 변환 완료\n",
            "✅ /content/drive/MyDrive/base_file/201808_test_청구입금정보.parquet 변환 완료\n",
            "✅ /content/drive/MyDrive/base_file/201809_test_청구입금정보.parquet 변환 완료\n",
            "✅ /content/drive/MyDrive/base_file/201810_test_청구입금정보.parquet 변환 완료\n",
            "✅ /content/drive/MyDrive/base_file/201811_test_청구입금정보.parquet 변환 완료\n",
            "✅ /content/drive/MyDrive/base_file/201812_test_청구입금정보.parquet 변환 완료\n",
            "✅ /content/drive/MyDrive/base_file/test_청구입금정보.csv 저장 완료 (Shape: (600000, 46))\n",
            "✅ /content/drive/MyDrive/base_file/201807_test_잔액정보.parquet 변환 완료\n",
            "✅ /content/drive/MyDrive/base_file/201808_test_잔액정보.parquet 변환 완료\n",
            "✅ /content/drive/MyDrive/base_file/201809_test_잔액정보.parquet 변환 완료\n",
            "✅ /content/drive/MyDrive/base_file/201810_test_잔액정보.parquet 변환 완료\n",
            "✅ /content/drive/MyDrive/base_file/201811_test_잔액정보.parquet 변환 완료\n",
            "✅ /content/drive/MyDrive/base_file/201812_test_잔액정보.parquet 변환 완료\n",
            "✅ /content/drive/MyDrive/base_file/test_잔액정보.csv 저장 완료 (Shape: (600000, 82))\n",
            "✅ /content/drive/MyDrive/base_file/201807_test_채널정보.parquet 변환 완료\n",
            "✅ /content/drive/MyDrive/base_file/201808_test_채널정보.parquet 변환 완료\n",
            "✅ /content/drive/MyDrive/base_file/201809_test_채널정보.parquet 변환 완료\n",
            "✅ /content/drive/MyDrive/base_file/201810_test_채널정보.parquet 변환 완료\n",
            "✅ /content/drive/MyDrive/base_file/201811_test_채널정보.parquet 변환 완료\n",
            "✅ /content/drive/MyDrive/base_file/201812_test_채널정보.parquet 변환 완료\n",
            "✅ /content/drive/MyDrive/base_file/test_채널정보.csv 저장 완료 (Shape: (600000, 105))\n",
            "✅ /content/drive/MyDrive/base_file/201807_test_마케팅정보.parquet 변환 완료\n",
            "✅ /content/drive/MyDrive/base_file/201808_test_마케팅정보.parquet 변환 완료\n",
            "✅ /content/drive/MyDrive/base_file/201809_test_마케팅정보.parquet 변환 완료\n",
            "✅ /content/drive/MyDrive/base_file/201810_test_마케팅정보.parquet 변환 완료\n",
            "✅ /content/drive/MyDrive/base_file/201811_test_마케팅정보.parquet 변환 완료\n",
            "✅ /content/drive/MyDrive/base_file/201812_test_마케팅정보.parquet 변환 완료\n",
            "✅ /content/drive/MyDrive/base_file/test_마케팅정보.csv 저장 완료 (Shape: (600000, 64))\n",
            "✅ /content/drive/MyDrive/base_file/201807_test_성과정보.parquet 변환 완료\n",
            "✅ /content/drive/MyDrive/base_file/201808_test_성과정보.parquet 변환 완료\n",
            "✅ /content/drive/MyDrive/base_file/201809_test_성과정보.parquet 변환 완료\n",
            "✅ /content/drive/MyDrive/base_file/201810_test_성과정보.parquet 변환 완료\n",
            "✅ /content/drive/MyDrive/base_file/201811_test_성과정보.parquet 변환 완료\n",
            "✅ /content/drive/MyDrive/base_file/201812_test_성과정보.parquet 변환 완료\n",
            "✅ /content/drive/MyDrive/base_file/test_성과정보.csv 저장 완료 (Shape: (600000, 49))\n"
          ]
        }
      ],
      "source": [
        "drive_folder = '/content/drive/MyDrive/base_file/'\n",
        "\n",
        "months = [\"07\", \"08\", \"09\", \"10\", \"11\", \"12\"]\n",
        "\n",
        "categories = [\"회원정보\", \"신용정보\", \"승인매출정보\", \"청구입금정보\", \"잔액정보\", \"채널정보\", \"마케팅정보\", \"성과정보\"]\n",
        "data_types = [\"train\", \"test\"]\n",
        "\n",
        "def merge_monthly_data(data_type, category):\n",
        "    merged_list = []\n",
        "\n",
        "    for month in months:\n",
        "        file_name = f\"{drive_folder}2018{month}_{data_type}_{category}.parquet\"\n",
        "        try:\n",
        "            df = pd.read_parquet(file_name, engine=\"pyarrow\")\n",
        "            merged_list.append(df)\n",
        "            print(f\"✅ {file_name} 변환 완료\")\n",
        "        except FileNotFoundError:\n",
        "            print(f\"⚠️ 파일 없음: {file_name}\")\n",
        "\n",
        "    if merged_list:\n",
        "        merged_df = pd.concat(merged_list, ignore_index=True)\n",
        "        output_file = f\"{drive_folder}{data_type}_{category}.csv\"\n",
        "        merged_df.to_csv(output_file, index=False)\n",
        "        print(f\"✅ {output_file} 저장 완료 (Shape: {merged_df.shape})\")\n",
        "    else:\n",
        "        print(f\"❌ {data_type}_{category} 데이터 없음\")\n",
        "\n",
        "for data_type in data_types:\n",
        "    for category in categories:\n",
        "        merge_monthly_data(data_type, category)"
      ]
    },
    {
      "cell_type": "code",
      "execution_count": null,
      "metadata": {
        "colab": {
          "base_uri": "https://localhost:8080/"
        },
        "id": "gux8YAllhSWB",
        "outputId": "0b3073d2-7445-41ec-c906-48bdb14a3a8a"
      },
      "outputs": [
        {
          "output_type": "stream",
          "name": "stdout",
          "text": [
            "\n",
            "🔹 병합 중: train_신용정보.csv (2/8)\n",
            "✅ 병합 후 크기: (2400000, 118)\n",
            "\n",
            "🔹 병합 중: train_승인매출정보.csv (3/8)\n"
          ]
        },
        {
          "output_type": "stream",
          "name": "stderr",
          "text": [
            "<ipython-input-9-208cf7ea5a6c>:18: DtypeWarning: Columns (183) have mixed types. Specify dtype option on import or set low_memory=False.\n",
            "  temp_df = pd.read_csv(base_path + file)\n"
          ]
        },
        {
          "output_type": "stream",
          "name": "stdout",
          "text": [
            "✅ 병합 후 크기: (2400000, 522)\n",
            "\n",
            "🔹 병합 중: train_청구입금정보.csv (4/8)\n",
            "✅ 병합 후 크기: (2400000, 566)\n",
            "\n",
            "🔹 병합 중: train_잔액정보.csv (5/8)\n",
            "✅ 병합 후 크기: (2400000, 646)\n",
            "\n",
            "🔹 병합 중: train_채널정보.csv (6/8)\n",
            "✅ 병합 후 크기: (2400000, 749)\n",
            "\n",
            "🔹 병합 중: train_마케팅정보.csv (7/8)\n",
            "✅ 병합 후 크기: (2400000, 811)\n",
            "\n",
            "🔹 병합 중: train_성과정보.csv (8/8)\n",
            "✅ 병합 후 크기: (2400000, 858)\n",
            "\n",
            "✅ 최종 데이터 저장 완료: /content/drive/MyDrive/base_file/base_train.csv\n",
            "🧾 최종 데이터 크기: 2400000행, 858열\n"
          ]
        }
      ],
      "source": [
        "base_path = \"/content/drive/MyDrive/base_file/\"\n",
        "\n",
        "file_names = [\n",
        "    \"train_회원정보.csv\",\n",
        "    \"train_신용정보.csv\",\n",
        "    \"train_승인매출정보.csv\",\n",
        "    \"train_청구입금정보.csv\",\n",
        "    \"train_잔액정보.csv\",\n",
        "    \"train_채널정보.csv\",\n",
        "    \"train_마케팅정보.csv\",\n",
        "    \"train_성과정보.csv\"\n",
        "]\n",
        "\n",
        "df = pd.read_csv(base_path + file_names[0])\n",
        "\n",
        "for idx, file in enumerate(file_names[1:], start=2):\n",
        "    print(f\"\\n🔹 병합 중: {file} ({idx}/{len(file_names)})\")\n",
        "    temp_df = pd.read_csv(base_path + file)\n",
        "\n",
        "    df = df.merge(temp_df, how=\"left\", on=[\"ID\", \"기준년월\"])\n",
        "    print(f\"✅ 병합 후 크기: {df.shape}\")\n",
        "\n",
        "output_file = base_path + \"base_train.csv\"\n",
        "df.to_csv(output_file, index=False)\n",
        "\n",
        "print(f\"\\n✅ 최종 데이터 저장 완료: {output_file}\")\n",
        "print(f\"🧾 최종 데이터 크기: {df.shape[0]}행, {df.shape[1]}열\")"
      ]
    },
    {
      "cell_type": "code",
      "execution_count": null,
      "metadata": {
        "colab": {
          "base_uri": "https://localhost:8080/"
        },
        "id": "0pkNSlZaia5J",
        "outputId": "e6aee287-3830-4b6f-f174-ed588c9327c2"
      },
      "outputs": [
        {
          "output_type": "stream",
          "name": "stdout",
          "text": [
            "\n",
            "🔹 병합 중: test_신용정보.csv (2/8)\n",
            "✅ 병합 후 크기: (600000, 117)\n",
            "\n",
            "🔹 병합 중: test_승인매출정보.csv (3/8)\n"
          ]
        },
        {
          "output_type": "stream",
          "name": "stderr",
          "text": [
            "<ipython-input-10-e90a1969e516>:18: DtypeWarning: Columns (183) have mixed types. Specify dtype option on import or set low_memory=False.\n",
            "  temp_df = pd.read_csv(base_path + file)\n"
          ]
        },
        {
          "output_type": "stream",
          "name": "stdout",
          "text": [
            "✅ 병합 후 크기: (600000, 521)\n",
            "\n",
            "🔹 병합 중: test_청구입금정보.csv (4/8)\n",
            "✅ 병합 후 크기: (600000, 565)\n",
            "\n",
            "🔹 병합 중: test_잔액정보.csv (5/8)\n",
            "✅ 병합 후 크기: (600000, 645)\n",
            "\n",
            "🔹 병합 중: test_채널정보.csv (6/8)\n",
            "✅ 병합 후 크기: (600000, 748)\n",
            "\n",
            "🔹 병합 중: test_마케팅정보.csv (7/8)\n",
            "✅ 병합 후 크기: (600000, 810)\n",
            "\n",
            "🔹 병합 중: test_성과정보.csv (8/8)\n",
            "✅ 병합 후 크기: (600000, 857)\n",
            "\n",
            "✅ 최종 데이터 저장 완료: /content/drive/MyDrive/base_file/base_test.csv\n",
            "🧾 최종 데이터 크기: 600000행, 857열\n"
          ]
        }
      ],
      "source": [
        "base_path = \"/content/drive/MyDrive/base_file/\"\n",
        "\n",
        "file_names = [\n",
        "    \"test_회원정보.csv\",\n",
        "    \"test_신용정보.csv\",\n",
        "    \"test_승인매출정보.csv\",\n",
        "    \"test_청구입금정보.csv\",\n",
        "    \"test_잔액정보.csv\",\n",
        "    \"test_채널정보.csv\",\n",
        "    \"test_마케팅정보.csv\",\n",
        "    \"test_성과정보.csv\"\n",
        "]\n",
        "\n",
        "df = pd.read_csv(base_path + file_names[0])\n",
        "\n",
        "for idx, file in enumerate(file_names[1:], start=2):\n",
        "    print(f\"\\n🔹 병합 중: {file} ({idx}/{len(file_names)})\")\n",
        "    temp_df = pd.read_csv(base_path + file)\n",
        "\n",
        "    df = df.merge(temp_df, how=\"left\", on=[\"ID\", \"기준년월\"])\n",
        "    print(f\"✅ 병합 후 크기: {df.shape}\")\n",
        "\n",
        "output_file = base_path + \"base_test.csv\"\n",
        "df.to_csv(output_file, index=False)\n",
        "\n",
        "print(f\"\\n✅ 최종 데이터 저장 완료: {output_file}\")\n",
        "print(f\"🧾 최종 데이터 크기: {df.shape[0]}행, {df.shape[1]}열\")"
      ]
    },
    {
      "cell_type": "code",
      "execution_count": null,
      "metadata": {
        "colab": {
          "base_uri": "https://localhost:8080/"
        },
        "id": "xNaUbiPqh83T",
        "outputId": "8c4edc0a-e977-4eeb-fe29-0c47a065366d"
      },
      "outputs": [
        {
          "output_type": "stream",
          "name": "stdout",
          "text": [
            "\n",
            "🔹 병합 진행 중: train_신용정보.csv (파일 2 / 8)\n",
            "✅ 병합 후 데이터 크기: 2400000행, 118열\n",
            "📌 제거된 모든 값이 동일한 칼럼: ['이용카드수_체크_가족', '이용금액_R3M_체크_가족', '연회비할인카드수_B0M', '할인금액_기본연회비_B0M', '할인금액_제휴연회비_B0M', '상품관련면제카드수_B0M', '임직원면제카드수_B0M', '우수회원면제카드수_B0M', '기타면제카드수_B0M', '시장연체상환여부_R3M']\n",
            "📌 제거된 중복 칼럼: ['청구금액_기본연회비_B0M', '청구금액_제휴연회비_B0M']\n",
            "🔹 train_신용정보.csv 처리 완료. 현재 데이터 크기: 2400000행, 106열\n",
            "\n",
            "🔹 병합 진행 중: train_승인매출정보.csv (파일 3 / 8)\n"
          ]
        },
        {
          "output_type": "stream",
          "name": "stderr",
          "text": [
            "<ipython-input-11-b4b3d50a070f>:21: DtypeWarning: Columns (183) have mixed types. Specify dtype option on import or set low_memory=False.\n",
            "  temp_df = pd.read_csv(base_path + file)\n"
          ]
        },
        {
          "output_type": "stream",
          "name": "stdout",
          "text": [
            "✅ 병합 후 데이터 크기: 2400000행, 510열\n",
            "📌 제거된 모든 값이 동일한 칼럼: ['이용건수_부분무이자_B0M', '이용금액_부분무이자_B0M', '여유_여행이용금액', '납부_렌탈료이용금액', '납부_유선방송이용금액', '납부_건강연금이용금액', '할부건수_부분_3M_R12M', '할부건수_부분_6M_R12M', '할부건수_부분_14M_R12M', '할부금액_부분_3M_R12M', 'RP건수_유선방송_B0M', 'RP건수_건강_B0M', 'RP후경과월_유선방송', 'RP후경과월_건강', '증감_RP건수_유선방송_전월', '증감_RP건수_건강_전월', '이용개월수_당사페이_R6M', '이용금액_당사페이_R6M', '이용금액_당사기타_R6M', '이용건수_당사페이_R6M', '이용건수_당사기타_R6M', '이용금액_당사페이_R3M', '이용금액_당사기타_R3M', '이용건수_당사페이_R3M', '이용건수_당사기타_R3M', '이용금액_당사페이_B0M', '이용금액_당사기타_B0M', '이용건수_당사페이_B0M', '이용건수_당사기타_B0M', '승인거절건수_입력오류_B0M', '승인거절건수_기타_B0M']\n",
            "📌 제거된 중복 칼럼: ['이용횟수_연체_B0M', '할부건수_부분_12M_R12M']\n",
            "🔹 train_승인매출정보.csv 처리 완료. 현재 데이터 크기: 2400000행, 477열\n",
            "\n",
            "🔹 병합 진행 중: train_청구입금정보.csv (파일 4 / 8)\n",
            "✅ 병합 후 데이터 크기: 2400000행, 521열\n",
            "📌 제거된 모든 값이 동일한 칼럼: ['대표결제방법코드']\n",
            "📌 중복 칼럼 없음\n",
            "🔹 train_청구입금정보.csv 처리 완료. 현재 데이터 크기: 2400000행, 520열\n",
            "\n",
            "🔹 병합 진행 중: train_잔액정보.csv (파일 5 / 8)\n",
            "✅ 병합 후 데이터 크기: 2400000행, 600열\n",
            "📌 제거된 모든 값이 동일한 칼럼: ['카드론잔액_최종경과월', '최종연체개월수_R15M', 'RV잔액이월횟수_R6M', 'RV잔액이월횟수_R3M', '연체잔액_일시불_해외_B0M', '연체잔액_RV일시불_해외_B0M', '연체잔액_할부_해외_B0M', '연체잔액_CA_해외_B0M']\n",
            "📌 중복 칼럼 없음\n",
            "🔹 train_잔액정보.csv 처리 완료. 현재 데이터 크기: 2400000행, 592열\n",
            "\n",
            "🔹 병합 진행 중: train_채널정보.csv (파일 6 / 8)\n",
            "✅ 병합 후 데이터 크기: 2400000행, 695열\n",
            "📌 제거된 모든 값이 동일한 칼럼: ['인입횟수_금융_IB_R6M', '인입불만횟수_IB_R6M', '인입불만일수_IB_R6M', '인입불만월수_IB_R6M', '인입불만후경과월_IB_R6M', '인입불만횟수_IB_B0M', '인입불만일수_IB_B0M', 'IB문의건수_한도_B0M', 'IB문의건수_결제_B0M', 'IB문의건수_할부_B0M', 'IB문의건수_정보변경_B0M', 'IB문의건수_결제일변경_B0M', 'IB문의건수_명세서_B0M', 'IB문의건수_비밀번호_B0M', 'IB문의건수_SMS_B0M', 'IB문의건수_APP_B0M', 'IB문의건수_부대서비스_B0M', 'IB문의건수_포인트_B0M', 'IB문의건수_BL_B0M', 'IB문의건수_분실도난_B0M', 'IB문의건수_CA_B0M', 'IB상담건수_VOC_B0M', 'IB상담건수_VOC민원_B0M', 'IB상담건수_VOC불만_B0M', 'IB상담건수_금감원_B0M', 'IB문의건수_명세서_R6M', 'IB문의건수_APP_R6M', 'IB상담건수_VOC_R6M', 'IB상담건수_VOC민원_R6M', 'IB상담건수_VOC불만_R6M', 'IB상담건수_금감원_R6M', '불만제기건수_B0M', '불만제기건수_R12M', '당사PAY_방문횟수_B0M', '당사PAY_방문횟수_R6M', '당사PAY_방문월수_R6M']\n",
            "📌 중복 칼럼 없음\n",
            "🔹 train_채널정보.csv 처리 완료. 현재 데이터 크기: 2400000행, 659열\n",
            "\n",
            "🔹 병합 진행 중: train_마케팅정보.csv (파일 7 / 8)\n",
            "✅ 병합 후 데이터 크기: 2400000행, 721열\n",
            "📌 제거된 모든 값이 동일한 칼럼: ['컨택건수_CA_TM_B0M', '컨택건수_포인트소진_TM_B0M', '컨택건수_CA_EM_B0M', '컨택건수_리볼빙_EM_B0M', '컨택건수_리볼빙_청구서_B0M', '컨택건수_카드론_인터넷_B0M', '컨택건수_CA_인터넷_B0M', '컨택건수_리볼빙_인터넷_B0M', '컨택건수_카드론_당사앱_B0M', '컨택건수_CA_당사앱_B0M', '컨택건수_리볼빙_당사앱_B0M', '컨택건수_CA_EM_R6M', '컨택건수_리볼빙_EM_R6M', '컨택건수_리볼빙_청구서_R6M', '컨택건수_카드론_인터넷_R6M', '컨택건수_CA_인터넷_R6M', '컨택건수_리볼빙_인터넷_R6M', '컨택건수_카드론_당사앱_R6M', '컨택건수_CA_당사앱_R6M', '컨택건수_리볼빙_당사앱_R6M', '컨택건수_FDS_B0M', '컨택건수_FDS_R6M']\n",
            "📌 중복 칼럼 없음\n",
            "🔹 train_마케팅정보.csv 처리 완료. 현재 데이터 크기: 2400000행, 699열\n",
            "\n",
            "🔹 병합 진행 중: train_성과정보.csv (파일 8 / 8)\n",
            "✅ 병합 후 데이터 크기: 2400000행, 746열\n",
            "📌 모든 값이 동일한 칼럼 없음\n",
            "📌 중복 칼럼 없음\n",
            "🔹 train_성과정보.csv 처리 완료. 현재 데이터 크기: 2400000행, 746열\n",
            "\n",
            "✅ 원래 데이터 크기: 2400000행, 78열\n",
            "✅ 병합 후 최종 데이터 크기: 2400000행, 746열\n",
            "\n",
            "✅ 최종 데이터 저장 완료: /content/drive/MyDrive/base_file/base_clean_train.csv\n"
          ]
        }
      ],
      "source": [
        "base_path = \"/content/drive/MyDrive/base_file/\"\n",
        "\n",
        "file_names = [\n",
        "    \"train_회원정보.csv\",\n",
        "    \"train_신용정보.csv\",\n",
        "    \"train_승인매출정보.csv\",\n",
        "    \"train_청구입금정보.csv\",\n",
        "    \"train_잔액정보.csv\",\n",
        "    \"train_채널정보.csv\",\n",
        "    \"train_마케팅정보.csv\",\n",
        "    \"train_성과정보.csv\"\n",
        "]\n",
        "\n",
        "df = pd.read_csv(base_path + file_names[0])\n",
        "\n",
        "original_shape = df.shape\n",
        "\n",
        "for idx, file in enumerate(file_names[1:], start=2):\n",
        "    print(f\"\\n🔹 병합 진행 중: {file} (파일 {idx} / {len(file_names)})\")\n",
        "\n",
        "    temp_df = pd.read_csv(base_path + file)\n",
        "    df = df.merge(temp_df, how=\"left\", on=[\"ID\", \"기준년월\"])\n",
        "    print(f\"✅ 병합 후 데이터 크기: {df.shape[0]}행, {df.shape[1]}열\")\n",
        "\n",
        "    constant_cols = [col for col in df.columns if df[col].nunique() == 1]\n",
        "    if constant_cols:\n",
        "        print(f\"📌 제거된 모든 값이 동일한 칼럼: {constant_cols}\")\n",
        "        df = df.drop(columns=constant_cols)\n",
        "    else:\n",
        "        print(\"📌 모든 값이 동일한 칼럼 없음\")\n",
        "\n",
        "    col_groups = {}\n",
        "    for col in df.columns:\n",
        "        for key in col_groups:\n",
        "            if df[col].equals(df[key]):\n",
        "                col_groups[key].append(col)\n",
        "                break\n",
        "        else:\n",
        "            col_groups[col] = [col]\n",
        "\n",
        "    duplicate_cols = [col for group in col_groups.values() for col in group[1:]]\n",
        "    if duplicate_cols:\n",
        "        print(f\"📌 제거된 중복 칼럼: {duplicate_cols}\")\n",
        "        df = df.drop(columns=duplicate_cols)\n",
        "    else:\n",
        "        print(\"📌 중복 칼럼 없음\")\n",
        "\n",
        "    if 'ID' in df.columns and df.columns.str.contains('ID').sum() > 1:\n",
        "        df = df.loc[:, ~df.columns.str.contains('ID', case=False)].join(df[['ID']])\n",
        "\n",
        "    if '기준년월' in df.columns and df.columns.str.contains('기준년월').sum() > 1:\n",
        "        df = df.loc[:, ~df.columns.str.contains('기준년월', case=False)].join(df[['기준년월']])\n",
        "\n",
        "    print(f\"🔹 {file} 처리 완료. 현재 데이터 크기: {df.shape[0]}행, {df.shape[1]}열\")\n",
        "\n",
        "new_shape = df.shape\n",
        "\n",
        "output_file = base_path + \"base_clean_train.csv\"\n",
        "df.to_csv(output_file, index=False)\n",
        "\n",
        "print(f\"\\n✅ 원래 데이터 크기: {original_shape[0]}행, {original_shape[1]}열\")\n",
        "print(f\"✅ 병합 후 최종 데이터 크기: {new_shape[0]}행, {new_shape[1]}열\")\n",
        "\n",
        "print(f\"\\n✅ 최종 데이터 저장 완료: {output_file}\")"
      ]
    },
    {
      "cell_type": "code",
      "execution_count": null,
      "metadata": {
        "colab": {
          "base_uri": "https://localhost:8080/"
        },
        "id": "UBcwut0Wh_ND",
        "outputId": "96cce2ef-deff-4d0a-a7a3-112ce6911aa1"
      },
      "outputs": [
        {
          "output_type": "stream",
          "name": "stdout",
          "text": [
            "\n",
            "🔹 병합 진행 중: test_신용정보.csv (파일 2 / 8)\n",
            "✅ 병합 후 데이터 크기: 600000행, 117열\n",
            "\n",
            "🔹 병합 진행 중: test_승인매출정보.csv (파일 3 / 8)\n"
          ]
        },
        {
          "output_type": "stream",
          "name": "stderr",
          "text": [
            "<ipython-input-12-2e073f64f627>:19: DtypeWarning: Columns (183) have mixed types. Specify dtype option on import or set low_memory=False.\n",
            "  temp_df = pd.read_csv(base_path + file)\n"
          ]
        },
        {
          "output_type": "stream",
          "name": "stdout",
          "text": [
            "✅ 병합 후 데이터 크기: 600000행, 521열\n",
            "\n",
            "🔹 병합 진행 중: test_청구입금정보.csv (파일 4 / 8)\n",
            "✅ 병합 후 데이터 크기: 600000행, 565열\n",
            "\n",
            "🔹 병합 진행 중: test_잔액정보.csv (파일 5 / 8)\n",
            "✅ 병합 후 데이터 크기: 600000행, 645열\n",
            "\n",
            "🔹 병합 진행 중: test_채널정보.csv (파일 6 / 8)\n",
            "✅ 병합 후 데이터 크기: 600000행, 748열\n",
            "\n",
            "🔹 병합 진행 중: test_마케팅정보.csv (파일 7 / 8)\n",
            "✅ 병합 후 데이터 크기: 600000행, 810열\n",
            "\n",
            "🔹 병합 진행 중: test_성과정보.csv (파일 8 / 8)\n",
            "✅ 병합 후 데이터 크기: 600000행, 857열\n",
            "\n",
            "✅ 원래 test 데이터 크기: 600000행, 77열\n",
            "✅ 병합 후 최종 test 데이터 크기: 600000행, 745열\n",
            "\n",
            "✅ 최종 test 데이터 저장 완료: /content/drive/MyDrive/base_file/base_clean_test.csv\n",
            "\n",
            "⚠️ train과 test의 컬럼이 다릅니다!\n",
            "🔹 train에만 있는 컬럼 (1개): {'Segment'}\n",
            "🔹 test에만 있는 컬럼 (0개): set()\n"
          ]
        }
      ],
      "source": [
        "base_path = \"/content/drive/MyDrive/base_file/\"\n",
        "\n",
        "test_file_names = [\n",
        "    \"test_회원정보.csv\",\n",
        "    \"test_신용정보.csv\",\n",
        "    \"test_승인매출정보.csv\",\n",
        "    \"test_청구입금정보.csv\",\n",
        "    \"test_잔액정보.csv\",\n",
        "    \"test_채널정보.csv\",\n",
        "    \"test_마케팅정보.csv\",\n",
        "    \"test_성과정보.csv\"\n",
        "]\n",
        "\n",
        "test_df = pd.read_csv(base_path + test_file_names[0])\n",
        "\n",
        "test_original_shape = test_df.shape\n",
        "for idx, file in enumerate(test_file_names[1:], start=2):\n",
        "    print(f\"\\n🔹 병합 진행 중: {file} (파일 {idx} / {len(test_file_names)})\")\n",
        "    temp_df = pd.read_csv(base_path + file)\n",
        "    test_df = test_df.merge(temp_df, how=\"left\", on=[\"ID\", \"기준년월\"])\n",
        "    print(f\"✅ 병합 후 데이터 크기: {test_df.shape[0]}행, {test_df.shape[1]}열\")\n",
        "\n",
        "train_df = pd.read_csv(base_path + \"base_clean_train.csv\", nrows=1)\n",
        "train_columns = train_df.columns\n",
        "test_columns_to_keep = [col for col in test_df.columns if col in train_columns]\n",
        "\n",
        "test_df = test_df[test_columns_to_keep]\n",
        "test_final_shape = test_df.shape\n",
        "\n",
        "test_output_file = base_path + \"base_clean_test.csv\"\n",
        "test_df.to_csv(test_output_file, index=False)\n",
        "\n",
        "print(f\"\\n✅ 원래 test 데이터 크기: {test_original_shape[0]}행, {test_original_shape[1]}열\")\n",
        "print(f\"✅ 병합 후 최종 test 데이터 크기: {test_final_shape[0]}행, {test_final_shape[1]}열\")\n",
        "print(f\"\\n✅ 최종 test 데이터 저장 완료: {test_output_file}\")\n",
        "\n",
        "train_col_set = set(train_columns)\n",
        "test_col_set = set(test_df.columns)\n",
        "\n",
        "if train_col_set == test_col_set:\n",
        "    print(\"\\n✅ train과 test의 컬럼이 완전히 일치합니다!\")\n",
        "else:\n",
        "    train_only_cols = train_col_set - test_col_set\n",
        "    test_only_cols = test_col_set - train_col_set\n",
        "\n",
        "    print(f\"\\n⚠️ train과 test의 컬럼이 다릅니다!\")\n",
        "    print(f\"🔹 train에만 있는 컬럼 ({len(train_only_cols)}개): {train_only_cols}\")\n",
        "    print(f\"🔹 test에만 있는 컬럼 ({len(test_only_cols)}개): {test_only_cols}\")"
      ]
    },
    {
      "cell_type": "markdown",
      "metadata": {
        "id": "gTvcEEzn_TqZ"
      },
      "source": [
        "### BASE model"
      ]
    },
    {
      "cell_type": "code",
      "execution_count": null,
      "metadata": {
        "id": "MplG-4kViWnT"
      },
      "outputs": [],
      "source": [
        "# BASE model에는 A100 GPU을 사용."
      ]
    },
    {
      "cell_type": "code",
      "execution_count": null,
      "metadata": {
        "colab": {
          "base_uri": "https://localhost:8080/"
        },
        "id": "A23GGRIhiv2q",
        "outputId": "00f427ef-6a29-4b35-f595-d92eb3af1255"
      },
      "outputs": [
        {
          "output_type": "stream",
          "name": "stdout",
          "text": [
            "Collecting catboost==1.2.8\n",
            "  Downloading catboost-1.2.8-cp311-cp311-manylinux2014_x86_64.whl.metadata (1.2 kB)\n",
            "Requirement already satisfied: graphviz in /usr/local/lib/python3.11/dist-packages (from catboost==1.2.8) (0.20.3)\n",
            "Requirement already satisfied: matplotlib in /usr/local/lib/python3.11/dist-packages (from catboost==1.2.8) (3.10.0)\n",
            "Requirement already satisfied: numpy<3.0,>=1.16.0 in /usr/local/lib/python3.11/dist-packages (from catboost==1.2.8) (2.0.2)\n",
            "Requirement already satisfied: pandas>=0.24 in /usr/local/lib/python3.11/dist-packages (from catboost==1.2.8) (2.2.2)\n",
            "Requirement already satisfied: scipy in /usr/local/lib/python3.11/dist-packages (from catboost==1.2.8) (1.15.2)\n",
            "Requirement already satisfied: plotly in /usr/local/lib/python3.11/dist-packages (from catboost==1.2.8) (5.24.1)\n",
            "Requirement already satisfied: six in /usr/local/lib/python3.11/dist-packages (from catboost==1.2.8) (1.17.0)\n",
            "Requirement already satisfied: python-dateutil>=2.8.2 in /usr/local/lib/python3.11/dist-packages (from pandas>=0.24->catboost==1.2.8) (2.9.0.post0)\n",
            "Requirement already satisfied: pytz>=2020.1 in /usr/local/lib/python3.11/dist-packages (from pandas>=0.24->catboost==1.2.8) (2025.2)\n",
            "Requirement already satisfied: tzdata>=2022.7 in /usr/local/lib/python3.11/dist-packages (from pandas>=0.24->catboost==1.2.8) (2025.2)\n",
            "Requirement already satisfied: contourpy>=1.0.1 in /usr/local/lib/python3.11/dist-packages (from matplotlib->catboost==1.2.8) (1.3.2)\n",
            "Requirement already satisfied: cycler>=0.10 in /usr/local/lib/python3.11/dist-packages (from matplotlib->catboost==1.2.8) (0.12.1)\n",
            "Requirement already satisfied: fonttools>=4.22.0 in /usr/local/lib/python3.11/dist-packages (from matplotlib->catboost==1.2.8) (4.57.0)\n",
            "Requirement already satisfied: kiwisolver>=1.3.1 in /usr/local/lib/python3.11/dist-packages (from matplotlib->catboost==1.2.8) (1.4.8)\n",
            "Requirement already satisfied: packaging>=20.0 in /usr/local/lib/python3.11/dist-packages (from matplotlib->catboost==1.2.8) (24.2)\n",
            "Requirement already satisfied: pillow>=8 in /usr/local/lib/python3.11/dist-packages (from matplotlib->catboost==1.2.8) (11.2.1)\n",
            "Requirement already satisfied: pyparsing>=2.3.1 in /usr/local/lib/python3.11/dist-packages (from matplotlib->catboost==1.2.8) (3.2.3)\n",
            "Requirement already satisfied: tenacity>=6.2.0 in /usr/local/lib/python3.11/dist-packages (from plotly->catboost==1.2.8) (9.1.2)\n",
            "Downloading catboost-1.2.8-cp311-cp311-manylinux2014_x86_64.whl (99.2 MB)\n",
            "\u001b[2K   \u001b[90m━━━━━━━━━━━━━━━━━━━━━━━━━━━━━━━━━━━━━━━━\u001b[0m \u001b[32m99.2/99.2 MB\u001b[0m \u001b[31m25.6 MB/s\u001b[0m eta \u001b[36m0:00:00\u001b[0m\n",
            "\u001b[?25hInstalling collected packages: catboost\n",
            "Successfully installed catboost-1.2.8\n",
            "Collecting optuna==4.3.0\n",
            "  Downloading optuna-4.3.0-py3-none-any.whl.metadata (17 kB)\n",
            "Collecting alembic>=1.5.0 (from optuna==4.3.0)\n",
            "  Downloading alembic-1.15.2-py3-none-any.whl.metadata (7.3 kB)\n",
            "Collecting colorlog (from optuna==4.3.0)\n",
            "  Downloading colorlog-6.9.0-py3-none-any.whl.metadata (10 kB)\n",
            "Requirement already satisfied: numpy in /usr/local/lib/python3.11/dist-packages (from optuna==4.3.0) (2.0.2)\n",
            "Requirement already satisfied: packaging>=20.0 in /usr/local/lib/python3.11/dist-packages (from optuna==4.3.0) (24.2)\n",
            "Requirement already satisfied: sqlalchemy>=1.4.2 in /usr/local/lib/python3.11/dist-packages (from optuna==4.3.0) (2.0.40)\n",
            "Requirement already satisfied: tqdm in /usr/local/lib/python3.11/dist-packages (from optuna==4.3.0) (4.67.1)\n",
            "Requirement already satisfied: PyYAML in /usr/local/lib/python3.11/dist-packages (from optuna==4.3.0) (6.0.2)\n",
            "Requirement already satisfied: Mako in /usr/lib/python3/dist-packages (from alembic>=1.5.0->optuna==4.3.0) (1.1.3)\n",
            "Requirement already satisfied: typing-extensions>=4.12 in /usr/local/lib/python3.11/dist-packages (from alembic>=1.5.0->optuna==4.3.0) (4.13.2)\n",
            "Requirement already satisfied: greenlet>=1 in /usr/local/lib/python3.11/dist-packages (from sqlalchemy>=1.4.2->optuna==4.3.0) (3.2.1)\n",
            "Downloading optuna-4.3.0-py3-none-any.whl (386 kB)\n",
            "\u001b[2K   \u001b[90m━━━━━━━━━━━━━━━━━━━━━━━━━━━━━━━━━━━━━━━━\u001b[0m \u001b[32m386.6/386.6 kB\u001b[0m \u001b[31m30.6 MB/s\u001b[0m eta \u001b[36m0:00:00\u001b[0m\n",
            "\u001b[?25hDownloading alembic-1.15.2-py3-none-any.whl (231 kB)\n",
            "\u001b[2K   \u001b[90m━━━━━━━━━━━━━━━━━━━━━━━━━━━━━━━━━━━━━━━━\u001b[0m \u001b[32m231.9/231.9 kB\u001b[0m \u001b[31m23.3 MB/s\u001b[0m eta \u001b[36m0:00:00\u001b[0m\n",
            "\u001b[?25hDownloading colorlog-6.9.0-py3-none-any.whl (11 kB)\n",
            "Installing collected packages: colorlog, alembic, optuna\n",
            "Successfully installed alembic-1.15.2 colorlog-6.9.0 optuna-4.3.0\n"
          ]
        }
      ],
      "source": [
        "!pip install catboost==1.2.8\n",
        "!pip install optuna==4.3.0"
      ]
    },
    {
      "cell_type": "code",
      "source": [
        "from google.colab import drive\n",
        "import pandas as pd\n",
        "import numpy as np\n",
        "from catboost import CatBoostClassifier, Pool\n",
        "from sklearn.model_selection import train_test_split\n",
        "from sklearn.model_selection import StratifiedKFold\n",
        "from sklearn.metrics import f1_score\n",
        "from sklearn.preprocessing import LabelEncoder\n",
        "import optuna\n",
        "import json"
      ],
      "metadata": {
        "id": "6gr8MP79-jNl"
      },
      "execution_count": null,
      "outputs": []
    },
    {
      "cell_type": "code",
      "source": [
        "drive.mount('/content/drive')"
      ],
      "metadata": {
        "colab": {
          "base_uri": "https://localhost:8080/"
        },
        "id": "9ps26foM8_GG",
        "outputId": "cc5af8f4-4709-4310-ae36-1cbb12df227a"
      },
      "execution_count": null,
      "outputs": [
        {
          "output_type": "stream",
          "name": "stdout",
          "text": [
            "Mounted at /content/drive\n"
          ]
        }
      ]
    },
    {
      "cell_type": "code",
      "execution_count": null,
      "metadata": {
        "colab": {
          "base_uri": "https://localhost:8080/"
        },
        "id": "A2tDBVaci2Fh",
        "outputId": "c4190f79-5517-4d2f-9310-b43d2ad6ef96"
      },
      "outputs": [
        {
          "output_type": "stream",
          "name": "stderr",
          "text": [
            "<ipython-input-5-e7b1426f6e19>:1: DtypeWarning: Columns (281,355) have mixed types. Specify dtype option on import or set low_memory=False.\n",
            "  train = pd.read_csv('/content/drive/MyDrive/base_file/base_clean_train.csv')\n",
            "<ipython-input-5-e7b1426f6e19>:2: DtypeWarning: Columns (280) have mixed types. Specify dtype option on import or set low_memory=False.\n",
            "  test = pd.read_csv('/content/drive/MyDrive/base_file/base_clean_test.csv')\n"
          ]
        }
      ],
      "source": [
        "train = pd.read_csv('/content/drive/MyDrive/base_file/base_clean_train.csv')\n",
        "test = pd.read_csv('/content/drive/MyDrive/base_file/base_clean_test.csv')\n",
        "\n",
        "ab_ids = train[train['Segment'].isin(['A', 'B'])]['ID'].unique()\n",
        "\n",
        "train = train[~train['ID'].isin(ab_ids)].copy()"
      ]
    },
    {
      "cell_type": "code",
      "execution_count": null,
      "metadata": {
        "id": "mZBetbccJbwj"
      },
      "outputs": [],
      "source": [
        "# label_encoder = LabelEncoder()\n",
        "# train['Segment'] = label_encoder.fit_transform(train['Segment'])\n",
        "\n",
        "# X = train.drop(columns=['Segment', 'ID'])\n",
        "# y = train['Segment']\n",
        "# X_test = test.drop(columns=['ID'])\n",
        "\n",
        "# cat_features = [col for col in X.columns if X[col].dtype == 'object']\n",
        "# for col in cat_features:\n",
        "#     X[col] = X[col].astype(str)\n",
        "#     X_test[col] = X_test[col].astype(str)\n",
        "\n",
        "# def objective(trial):\n",
        "#     bootstrap_type = trial.suggest_categorical('bootstrap_type', ['Bayesian', 'Bernoulli'])\n",
        "\n",
        "#     params = {\n",
        "#         'iterations': 1500,\n",
        "#         'learning_rate': trial.suggest_float(\"learning_rate\", 0.01, 0.3),\n",
        "#         'depth': 8,\n",
        "#         'l2_leaf_reg': trial.suggest_float(\"l2_leaf_reg\", 1.0, 10.0),\n",
        "#         'random_strength': trial.suggest_float(\"random_strength\", 1e-9, 10.0),\n",
        "#         'border_count': trial.suggest_int(\"border_count\", 32, 255),\n",
        "#         'bootstrap_type': bootstrap_type,\n",
        "#         'task_type': 'GPU',\n",
        "#         'loss_function': 'MultiClass',\n",
        "#         'eval_metric': 'TotalF1',\n",
        "#         'verbose': 0,\n",
        "#         'random_seed': 42,\n",
        "#         'class_weights': [2, 1, 1]\n",
        "#     }\n",
        "\n",
        "#     if bootstrap_type == 'Bayesian':\n",
        "#         params['bagging_temperature'] = trial.suggest_float(\"bagging_temperature\", 0.0, 1.0)\n",
        "#     else:\n",
        "#         params['subsample'] = trial.suggest_float(\"subsample\", 0.5, 1.0)\n",
        "\n",
        "#     X_train_sub, X_valid, y_train_sub, y_valid = train_test_split(\n",
        "#         X, y, test_size=0.2, stratify=y, random_state=42\n",
        "#     )\n",
        "\n",
        "#     model = CatBoostClassifier(**params)\n",
        "#     model.fit(\n",
        "#         X_train_sub, y_train_sub,\n",
        "#         eval_set=(X_valid, y_valid),\n",
        "#         cat_features=cat_features,\n",
        "#         use_best_model=True,\n",
        "#         early_stopping_rounds=100\n",
        "#     )\n",
        "\n",
        "#     preds = model.predict(X_valid)\n",
        "#     score = f1_score(y_valid, preds, average='macro')\n",
        "#     return score\n",
        "\n",
        "# study = optuna.create_study(direction='maximize')\n",
        "# study.optimize(objective, n_trials=30)\n",
        "\n",
        "# best_params = study.best_trial.params\n",
        "# with open('/content/drive/MyDrive/base_file/base_catboost_params.json', 'w') as f:\n",
        "#     json.dump(best_params, f)\n",
        "\n",
        "# best_params.update({\n",
        "#     'iterations': 1500,\n",
        "#     'loss_function': 'MultiClass',\n",
        "#     'eval_metric': 'TotalF1',\n",
        "#     'task_type': 'GPU',\n",
        "#     'verbose': 100,\n",
        "#     'random_seed': 42,\n",
        "#     'depth': 8,\n",
        "#     'class_weights': [2, 1, 1]\n",
        "# })\n",
        "\n",
        "# final_model = CatBoostClassifier(**best_params)\n",
        "# final_model.fit(X, y, cat_features=cat_features)\n",
        "\n",
        "# probs = final_model.predict_proba(X_test)\n",
        "# prob_df = pd.DataFrame(probs, columns=range(probs.shape[1]))\n",
        "# prob_df['ID'] = test['ID'].values\n",
        "\n",
        "# mean_probs = prob_df.groupby('ID').mean().reset_index()\n",
        "# mean_probs['Segment'] = mean_probs.drop(columns='ID').values.argmax(axis=1)\n",
        "\n",
        "# segment_mapping = {0: 'C', 1: 'D', 2: 'E'}\n",
        "# mean_probs['Segment'] = mean_probs['Segment'].map(segment_mapping)\n",
        "\n",
        "# submission = pd.DataFrame({'ID': mean_probs['ID'], 'Segment': mean_probs['Segment']})\n",
        "# submission.to_csv('/content/drive/MyDrive/base_file/base_catboost.csv', index=False)\n",
        "\n",
        "# print(\"✅ CatBoost + Optuna (단일 valid split) 예측 완료 및 저장 🎯\")"
      ]
    },
    {
      "cell_type": "code",
      "execution_count": null,
      "metadata": {
        "colab": {
          "base_uri": "https://localhost:8080/"
        },
        "id": "jw827xb0G11f",
        "outputId": "b8565e95-7362-4984-aae4-0843148b820a"
      },
      "outputs": [
        {
          "output_type": "stream",
          "name": "stdout",
          "text": [
            "🚀 Fold 1 training...\n",
            "0:\tlearn: 0.8425386\ttotal: 307ms\tremaining: 7m 40s\n",
            "100:\tlearn: 0.9042936\ttotal: 6.49s\tremaining: 1m 29s\n",
            "200:\tlearn: 0.9178637\ttotal: 12.4s\tremaining: 1m 20s\n",
            "300:\tlearn: 0.9270462\ttotal: 18.5s\tremaining: 1m 13s\n",
            "400:\tlearn: 0.9341691\ttotal: 24.5s\tremaining: 1m 7s\n",
            "500:\tlearn: 0.9401282\ttotal: 30.4s\tremaining: 1m\n",
            "600:\tlearn: 0.9450037\ttotal: 36.5s\tremaining: 54.6s\n",
            "700:\tlearn: 0.9493407\ttotal: 42.3s\tremaining: 48.3s\n",
            "800:\tlearn: 0.9530282\ttotal: 48.2s\tremaining: 42.1s\n",
            "900:\tlearn: 0.9565139\ttotal: 54.2s\tremaining: 36s\n",
            "1000:\tlearn: 0.9596573\ttotal: 60s\tremaining: 29.9s\n",
            "1100:\tlearn: 0.9622827\ttotal: 1m 5s\tremaining: 23.9s\n",
            "1200:\tlearn: 0.9649718\ttotal: 1m 11s\tremaining: 17.9s\n",
            "1300:\tlearn: 0.9672248\ttotal: 1m 17s\tremaining: 11.9s\n",
            "1400:\tlearn: 0.9692903\ttotal: 1m 23s\tremaining: 5.92s\n",
            "1499:\tlearn: 0.9710659\ttotal: 1m 29s\tremaining: 0us\n",
            "🚀 Fold 2 training...\n",
            "0:\tlearn: 0.8426310\ttotal: 79.1ms\tremaining: 1m 58s\n",
            "100:\tlearn: 0.9042342\ttotal: 6.27s\tremaining: 1m 26s\n",
            "200:\tlearn: 0.9183331\ttotal: 12.3s\tremaining: 1m 19s\n",
            "300:\tlearn: 0.9273111\ttotal: 18.3s\tremaining: 1m 12s\n",
            "400:\tlearn: 0.9343011\ttotal: 24.3s\tremaining: 1m 6s\n",
            "500:\tlearn: 0.9402753\ttotal: 30.3s\tremaining: 1m\n",
            "600:\tlearn: 0.9451218\ttotal: 36.3s\tremaining: 54.3s\n",
            "700:\tlearn: 0.9491335\ttotal: 42s\tremaining: 47.9s\n",
            "800:\tlearn: 0.9525240\ttotal: 47.8s\tremaining: 41.7s\n",
            "900:\tlearn: 0.9555484\ttotal: 53.3s\tremaining: 35.4s\n",
            "1000:\tlearn: 0.9588667\ttotal: 59.3s\tremaining: 29.6s\n",
            "1100:\tlearn: 0.9617832\ttotal: 1m 5s\tremaining: 23.7s\n",
            "1200:\tlearn: 0.9645287\ttotal: 1m 11s\tremaining: 17.8s\n",
            "1300:\tlearn: 0.9669027\ttotal: 1m 17s\tremaining: 11.8s\n",
            "1400:\tlearn: 0.9692553\ttotal: 1m 23s\tremaining: 5.89s\n",
            "1499:\tlearn: 0.9711020\ttotal: 1m 29s\tremaining: 0us\n",
            "🚀 Fold 3 training...\n",
            "0:\tlearn: 0.8426860\ttotal: 78.3ms\tremaining: 1m 57s\n",
            "100:\tlearn: 0.9046486\ttotal: 6.25s\tremaining: 1m 26s\n",
            "200:\tlearn: 0.9180335\ttotal: 12.1s\tremaining: 1m 18s\n",
            "300:\tlearn: 0.9269395\ttotal: 18.1s\tremaining: 1m 12s\n",
            "400:\tlearn: 0.9339598\ttotal: 24s\tremaining: 1m 5s\n",
            "500:\tlearn: 0.9399768\ttotal: 29.9s\tremaining: 59.6s\n",
            "600:\tlearn: 0.9449247\ttotal: 36s\tremaining: 53.8s\n",
            "700:\tlearn: 0.9493422\ttotal: 41.9s\tremaining: 47.8s\n",
            "800:\tlearn: 0.9533801\ttotal: 47.9s\tremaining: 41.8s\n",
            "900:\tlearn: 0.9569664\ttotal: 53.8s\tremaining: 35.8s\n",
            "1000:\tlearn: 0.9599831\ttotal: 59.7s\tremaining: 29.8s\n",
            "1100:\tlearn: 0.9628817\ttotal: 1m 5s\tremaining: 23.8s\n",
            "1200:\tlearn: 0.9656962\ttotal: 1m 11s\tremaining: 17.9s\n",
            "1300:\tlearn: 0.9680475\ttotal: 1m 17s\tremaining: 11.9s\n",
            "1400:\tlearn: 0.9703234\ttotal: 1m 23s\tremaining: 5.93s\n",
            "1499:\tlearn: 0.9723847\ttotal: 1m 29s\tremaining: 0us\n",
            "🚀 Fold 4 training...\n",
            "0:\tlearn: 0.8425927\ttotal: 79.1ms\tremaining: 1m 58s\n",
            "100:\tlearn: 0.9043525\ttotal: 6.2s\tremaining: 1m 25s\n",
            "200:\tlearn: 0.9182879\ttotal: 12.1s\tremaining: 1m 18s\n",
            "300:\tlearn: 0.9270534\ttotal: 17.9s\tremaining: 1m 11s\n",
            "400:\tlearn: 0.9341031\ttotal: 24s\tremaining: 1m 5s\n",
            "500:\tlearn: 0.9401405\ttotal: 30s\tremaining: 59.7s\n",
            "600:\tlearn: 0.9451880\ttotal: 36.1s\tremaining: 54s\n",
            "700:\tlearn: 0.9494877\ttotal: 42s\tremaining: 47.9s\n",
            "800:\tlearn: 0.9531223\ttotal: 47.9s\tremaining: 41.8s\n",
            "900:\tlearn: 0.9564120\ttotal: 53.8s\tremaining: 35.7s\n",
            "1000:\tlearn: 0.9594924\ttotal: 59.7s\tremaining: 29.8s\n",
            "1100:\tlearn: 0.9622487\ttotal: 1m 5s\tremaining: 23.8s\n",
            "1200:\tlearn: 0.9646668\ttotal: 1m 11s\tremaining: 17.8s\n",
            "1300:\tlearn: 0.9670220\ttotal: 1m 17s\tremaining: 11.8s\n",
            "1400:\tlearn: 0.9692950\ttotal: 1m 23s\tremaining: 5.9s\n",
            "1499:\tlearn: 0.9712995\ttotal: 1m 29s\tremaining: 0us\n",
            "🚀 Fold 5 training...\n",
            "0:\tlearn: 0.8423167\ttotal: 79.4ms\tremaining: 1m 59s\n",
            "100:\tlearn: 0.9043338\ttotal: 6.29s\tremaining: 1m 27s\n",
            "200:\tlearn: 0.9178480\ttotal: 12.2s\tremaining: 1m 18s\n",
            "300:\tlearn: 0.9270912\ttotal: 18.1s\tremaining: 1m 12s\n",
            "400:\tlearn: 0.9341924\ttotal: 24.1s\tremaining: 1m 6s\n",
            "500:\tlearn: 0.9400420\ttotal: 30.1s\tremaining: 59.9s\n",
            "600:\tlearn: 0.9451744\ttotal: 36s\tremaining: 53.8s\n",
            "700:\tlearn: 0.9494831\ttotal: 41.9s\tremaining: 47.7s\n",
            "800:\tlearn: 0.9532802\ttotal: 47.7s\tremaining: 41.7s\n",
            "900:\tlearn: 0.9566472\ttotal: 53.7s\tremaining: 35.7s\n",
            "1000:\tlearn: 0.9597976\ttotal: 59.8s\tremaining: 29.8s\n",
            "1100:\tlearn: 0.9626962\ttotal: 1m 5s\tremaining: 23.9s\n",
            "1200:\tlearn: 0.9652400\ttotal: 1m 11s\tremaining: 17.9s\n",
            "1300:\tlearn: 0.9676472\ttotal: 1m 17s\tremaining: 11.9s\n",
            "1400:\tlearn: 0.9698024\ttotal: 1m 23s\tremaining: 5.92s\n",
            "1499:\tlearn: 0.9718189\ttotal: 1m 29s\tremaining: 0us\n",
            "🚀 Fold 6 training...\n",
            "0:\tlearn: 0.8424855\ttotal: 79.4ms\tremaining: 1m 59s\n",
            "100:\tlearn: 0.9046972\ttotal: 6.25s\tremaining: 1m 26s\n",
            "200:\tlearn: 0.9179430\ttotal: 12.2s\tremaining: 1m 18s\n",
            "300:\tlearn: 0.9269924\ttotal: 18.1s\tremaining: 1m 12s\n",
            "400:\tlearn: 0.9339568\ttotal: 24s\tremaining: 1m 5s\n",
            "500:\tlearn: 0.9399626\ttotal: 30.1s\tremaining: 59.9s\n",
            "600:\tlearn: 0.9452670\ttotal: 36s\tremaining: 53.9s\n",
            "700:\tlearn: 0.9497755\ttotal: 42s\tremaining: 47.9s\n",
            "800:\tlearn: 0.9535203\ttotal: 47.9s\tremaining: 41.8s\n",
            "900:\tlearn: 0.9565249\ttotal: 53.5s\tremaining: 35.6s\n",
            "1000:\tlearn: 0.9594961\ttotal: 59.3s\tremaining: 29.6s\n",
            "1100:\tlearn: 0.9621221\ttotal: 1m 5s\tremaining: 23.6s\n",
            "1200:\tlearn: 0.9645326\ttotal: 1m 10s\tremaining: 17.7s\n",
            "1300:\tlearn: 0.9669336\ttotal: 1m 17s\tremaining: 11.8s\n",
            "1400:\tlearn: 0.9690835\ttotal: 1m 23s\tremaining: 5.87s\n",
            "1499:\tlearn: 0.9711340\ttotal: 1m 29s\tremaining: 0us\n",
            "🚀 Fold 7 training...\n",
            "0:\tlearn: 0.8423298\ttotal: 79.1ms\tremaining: 1m 58s\n",
            "100:\tlearn: 0.9045725\ttotal: 6.23s\tremaining: 1m 26s\n",
            "200:\tlearn: 0.9176729\ttotal: 12.1s\tremaining: 1m 18s\n",
            "300:\tlearn: 0.9270131\ttotal: 18.2s\tremaining: 1m 12s\n",
            "400:\tlearn: 0.9338454\ttotal: 24.1s\tremaining: 1m 6s\n",
            "500:\tlearn: 0.9397730\ttotal: 30s\tremaining: 59.9s\n",
            "600:\tlearn: 0.9448378\ttotal: 36s\tremaining: 53.9s\n",
            "700:\tlearn: 0.9490230\ttotal: 41.9s\tremaining: 47.8s\n",
            "800:\tlearn: 0.9523260\ttotal: 47.5s\tremaining: 41.4s\n",
            "900:\tlearn: 0.9545138\ttotal: 52.6s\tremaining: 34.9s\n",
            "1000:\tlearn: 0.9573134\ttotal: 58.1s\tremaining: 29s\n",
            "1100:\tlearn: 0.9602709\ttotal: 1m 4s\tremaining: 23.2s\n",
            "1200:\tlearn: 0.9631500\ttotal: 1m 10s\tremaining: 17.4s\n",
            "1300:\tlearn: 0.9657488\ttotal: 1m 16s\tremaining: 11.6s\n",
            "1400:\tlearn: 0.9680361\ttotal: 1m 21s\tremaining: 5.79s\n",
            "1499:\tlearn: 0.9701879\ttotal: 1m 28s\tremaining: 0us\n",
            "🚀 Fold 8 training...\n",
            "0:\tlearn: 0.8424364\ttotal: 79.9ms\tremaining: 1m 59s\n",
            "100:\tlearn: 0.9043747\ttotal: 6.19s\tremaining: 1m 25s\n",
            "200:\tlearn: 0.9178373\ttotal: 12.2s\tremaining: 1m 18s\n",
            "300:\tlearn: 0.9270331\ttotal: 18.2s\tremaining: 1m 12s\n",
            "400:\tlearn: 0.9337684\ttotal: 24s\tremaining: 1m 5s\n",
            "500:\tlearn: 0.9399190\ttotal: 30s\tremaining: 59.9s\n",
            "600:\tlearn: 0.9449130\ttotal: 36s\tremaining: 53.9s\n",
            "700:\tlearn: 0.9492880\ttotal: 42.1s\tremaining: 48s\n",
            "800:\tlearn: 0.9533027\ttotal: 48.1s\tremaining: 41.9s\n",
            "900:\tlearn: 0.9564820\ttotal: 53.8s\tremaining: 35.8s\n",
            "1000:\tlearn: 0.9595979\ttotal: 59.8s\tremaining: 29.8s\n",
            "1100:\tlearn: 0.9625511\ttotal: 1m 5s\tremaining: 23.8s\n",
            "1200:\tlearn: 0.9648819\ttotal: 1m 11s\tremaining: 17.8s\n",
            "1300:\tlearn: 0.9668730\ttotal: 1m 17s\tremaining: 11.8s\n",
            "1400:\tlearn: 0.9690977\ttotal: 1m 23s\tremaining: 5.87s\n",
            "1499:\tlearn: 0.9710012\ttotal: 1m 28s\tremaining: 0us\n",
            "🚀 Fold 9 training...\n",
            "0:\tlearn: 0.8425640\ttotal: 78.2ms\tremaining: 1m 57s\n",
            "100:\tlearn: 0.9043834\ttotal: 6.28s\tremaining: 1m 26s\n",
            "200:\tlearn: 0.9177651\ttotal: 12.2s\tremaining: 1m 18s\n",
            "300:\tlearn: 0.9269296\ttotal: 18.2s\tremaining: 1m 12s\n",
            "400:\tlearn: 0.9339265\ttotal: 24.1s\tremaining: 1m 5s\n",
            "500:\tlearn: 0.9398268\ttotal: 29.9s\tremaining: 59.6s\n",
            "600:\tlearn: 0.9449302\ttotal: 35.8s\tremaining: 53.5s\n",
            "700:\tlearn: 0.9492925\ttotal: 41.7s\tremaining: 47.5s\n",
            "800:\tlearn: 0.9530544\ttotal: 47.6s\tremaining: 41.5s\n",
            "900:\tlearn: 0.9565978\ttotal: 53.5s\tremaining: 35.5s\n",
            "1000:\tlearn: 0.9598171\ttotal: 59.5s\tremaining: 29.6s\n",
            "1100:\tlearn: 0.9626886\ttotal: 1m 5s\tremaining: 23.8s\n",
            "1200:\tlearn: 0.9651420\ttotal: 1m 11s\tremaining: 17.8s\n",
            "1300:\tlearn: 0.9674005\ttotal: 1m 17s\tremaining: 11.8s\n",
            "1400:\tlearn: 0.9694001\ttotal: 1m 23s\tremaining: 5.88s\n",
            "1499:\tlearn: 0.9713903\ttotal: 1m 29s\tremaining: 0us\n",
            "🚀 Fold 10 training...\n",
            "0:\tlearn: 0.8426007\ttotal: 79.3ms\tremaining: 1m 58s\n",
            "100:\tlearn: 0.9046640\ttotal: 6.3s\tremaining: 1m 27s\n",
            "200:\tlearn: 0.9181672\ttotal: 12.2s\tremaining: 1m 19s\n",
            "300:\tlearn: 0.9274978\ttotal: 18.3s\tremaining: 1m 13s\n",
            "400:\tlearn: 0.9343275\ttotal: 24.3s\tremaining: 1m 6s\n",
            "500:\tlearn: 0.9402233\ttotal: 30.4s\tremaining: 1m\n",
            "600:\tlearn: 0.9452303\ttotal: 36.4s\tremaining: 54.5s\n",
            "700:\tlearn: 0.9497518\ttotal: 42.5s\tremaining: 48.4s\n",
            "800:\tlearn: 0.9532879\ttotal: 48.3s\tremaining: 42.1s\n",
            "900:\tlearn: 0.9563852\ttotal: 54.2s\tremaining: 36.1s\n",
            "1000:\tlearn: 0.9591431\ttotal: 59.9s\tremaining: 29.8s\n",
            "1100:\tlearn: 0.9618898\ttotal: 1m 5s\tremaining: 23.9s\n",
            "1200:\tlearn: 0.9646211\ttotal: 1m 11s\tremaining: 17.9s\n",
            "1300:\tlearn: 0.9671373\ttotal: 1m 17s\tremaining: 11.9s\n",
            "1400:\tlearn: 0.9692622\ttotal: 1m 23s\tremaining: 5.92s\n",
            "1499:\tlearn: 0.9713158\ttotal: 1m 29s\tremaining: 0us\n",
            "✅ CatBoost + 10-Fold CV 예측 완료 및 저장 🎯\n"
          ]
        }
      ],
      "source": [
        "label_encoder = LabelEncoder()\n",
        "train['Segment'] = label_encoder.fit_transform(train['Segment'])\n",
        "\n",
        "X = train.drop(columns=['Segment', 'ID'])\n",
        "y = train['Segment']\n",
        "X_test = test.drop(columns=['ID'])\n",
        "\n",
        "cat_features = [col for col in X.columns if X[col].dtype == 'object']\n",
        "for col in cat_features:\n",
        "    X[col] = X[col].astype(str)\n",
        "    X_test[col] = X_test[col].astype(str)\n",
        "\n",
        "best_params = {\n",
        "    \"bootstrap_type\": \"Bayesian\",\n",
        "    \"learning_rate\": 0.2997682904093563,\n",
        "    \"l2_leaf_reg\": 9.214022161348987,\n",
        "    \"random_strength\": 7.342192789415524,\n",
        "    \"bagging_temperature\": 0.11417356499443036,\n",
        "    \"border_count\": 251,\n",
        "    \"iterations\": 1500,\n",
        "    \"loss_function\": \"MultiClass\",\n",
        "    \"eval_metric\": \"TotalF1\",\n",
        "    \"task_type\": \"GPU\",\n",
        "    \"verbose\": 100,\n",
        "    \"random_seed\": 42,\n",
        "    \"depth\": 8,\n",
        "    \"class_weights\": [2, 1, 1]\n",
        "}\n",
        "\n",
        "n_classes = len(np.unique(y))\n",
        "kf = StratifiedKFold(n_splits=10, shuffle=True, random_state=42)\n",
        "all_test_probs = np.zeros((X_test.shape[0], n_classes))\n",
        "\n",
        "for fold, (train_idx, valid_idx) in enumerate(kf.split(X, y)):\n",
        "    print(f\"🚀 Fold {fold+1} training...\")\n",
        "\n",
        "    X_train_fold, y_train_fold = X.iloc[train_idx], y.iloc[train_idx]\n",
        "    X_valid_fold, y_valid_fold = X.iloc[valid_idx], y.iloc[valid_idx]\n",
        "\n",
        "    model = CatBoostClassifier(**best_params)\n",
        "    model.fit(X_train_fold, y_train_fold, cat_features=cat_features)\n",
        "\n",
        "    fold_probs = model.predict_proba(X_test)\n",
        "    all_test_probs += fold_probs\n",
        "\n",
        "avg_test_probs = all_test_probs / kf.get_n_splits()\n",
        "prob_df = pd.DataFrame(avg_test_probs, columns=range(n_classes))\n",
        "prob_df['ID'] = test['ID'].values\n",
        "\n",
        "mean_probs = prob_df.groupby('ID').mean().reset_index()\n",
        "mean_probs['Segment'] = mean_probs.drop(columns='ID').values.argmax(axis=1)\n",
        "\n",
        "segment_mapping = {0: 'C', 1: 'D', 2: 'E'}\n",
        "mean_probs['Segment'] = mean_probs['Segment'].map(segment_mapping)\n",
        "\n",
        "submission = pd.DataFrame({'ID': mean_probs['ID'], 'Segment': mean_probs['Segment']})\n",
        "submission.to_csv('/content/drive/MyDrive/base_file/base_catboost_kfold.csv', index=False)\n",
        "\n",
        "print(\"✅ CatBoost + 10-Fold CV 예측 완료 및 저장 🎯\")"
      ]
    },
    {
      "cell_type": "markdown",
      "metadata": {
        "id": "6-9smPlJ_LzS"
      },
      "source": [
        "### VIP model"
      ]
    },
    {
      "cell_type": "code",
      "execution_count": null,
      "metadata": {
        "id": "lAX7EHdrX-lZ"
      },
      "outputs": [],
      "source": [
        "# VIP model에는 재현성 유지를 위해 L4 GPU 사용.\n",
        "# 파일 생성 부분 RAM 부족 문제로 v2-8 TPU 사용. L4 GPU 전환지점 따로 표시 예정."
      ]
    },
    {
      "cell_type": "code",
      "execution_count": null,
      "metadata": {
        "id": "JzK9KrSiuxTU"
      },
      "outputs": [],
      "source": [
        "from google.colab import drive\n",
        "import pandas as pd"
      ]
    },
    {
      "cell_type": "code",
      "source": [
        "drive.mount('/content/drive')"
      ],
      "metadata": {
        "colab": {
          "base_uri": "https://localhost:8080/"
        },
        "id": "DbwjyYHyA6Ws",
        "outputId": "998c0eae-2c22-41d6-bd47-0e81b0f42cf8"
      },
      "execution_count": null,
      "outputs": [
        {
          "output_type": "stream",
          "name": "stdout",
          "text": [
            "Mounted at /content/drive\n"
          ]
        }
      ]
    },
    {
      "cell_type": "code",
      "execution_count": null,
      "metadata": {
        "colab": {
          "base_uri": "https://localhost:8080/"
        },
        "id": "1UJsmotDkHvf",
        "outputId": "c0b0f0ff-dd1d-46eb-af38-933f9d19accf"
      },
      "outputs": [
        {
          "output_type": "stream",
          "name": "stderr",
          "text": [
            "<ipython-input-3-0b829fc33286>:1: DtypeWarning: Columns (281,355) have mixed types. Specify dtype option on import or set low_memory=False.\n",
            "  train = pd.read_csv('/content/drive/MyDrive/base_file/base_clean_train.csv')\n",
            "<ipython-input-3-0b829fc33286>:2: DtypeWarning: Columns (280) have mixed types. Specify dtype option on import or set low_memory=False.\n",
            "  test = pd.read_csv('/content/drive/MyDrive/base_file/base_clean_test.csv')\n"
          ]
        },
        {
          "output_type": "stream",
          "name": "stdout",
          "text": [
            "📦 고정된 칼럼 83개 제거할 예정입니다.\n"
          ]
        }
      ],
      "source": [
        "train = pd.read_csv('/content/drive/MyDrive/base_file/base_clean_train.csv')\n",
        "test = pd.read_csv('/content/drive/MyDrive/base_file/base_clean_test.csv')\n",
        "\n",
        "train_A = train[train['Segment'] == 'A']\n",
        "\n",
        "cols_to_check = [col for col in train.columns if col not in ['ID', 'Segment']]\n",
        "\n",
        "def is_fixed_column(df, col):\n",
        "    return df[col].nunique() == 1\n",
        "\n",
        "fixed_columns_A = {col: train_A[col].iloc[0] for col in cols_to_check if is_fixed_column(train_A, col)}\n",
        "max_column_values = fixed_columns_A.copy()\n",
        "\n",
        "fixed_cols = list(max_column_values.keys())\n",
        "\n",
        "print(f\"📦 고정된 칼럼 {len(fixed_cols)}개 제거할 예정입니다.\")"
      ]
    },
    {
      "cell_type": "code",
      "execution_count": null,
      "metadata": {
        "colab": {
          "base_uri": "https://localhost:8080/"
        },
        "id": "GaVjxC_FvW_j",
        "outputId": "48b26a90-7d05-4027-baf8-d0334d156228"
      },
      "outputs": [
        {
          "output_type": "stream",
          "name": "stdout",
          "text": [
            "🚀 최종 train 데이터 shape: (249594, 663)\n",
            "🚀 최종 test 데이터 shape: (62586, 662)\n"
          ]
        }
      ],
      "source": [
        "matching_ids_train = train.copy()\n",
        "for col, value in max_column_values.items():\n",
        "    matching_ids_train = matching_ids_train[matching_ids_train[col] == value]\n",
        "\n",
        "matching_ids_train_grouped = matching_ids_train.groupby('ID').filter(lambda x: len(x) == 6)\n",
        "matching_ids_train_list = matching_ids_train_grouped['ID'].unique()\n",
        "\n",
        "matching_ids_test = test.copy()\n",
        "for col, value in max_column_values.items():\n",
        "    matching_ids_test = matching_ids_test[matching_ids_test[col] == value]\n",
        "\n",
        "matching_ids_test_grouped = matching_ids_test.groupby('ID').filter(lambda x: len(x) == 6)\n",
        "matching_ids_test_list = matching_ids_test_grouped['ID'].unique()\n",
        "\n",
        "train_filtered = train[train['ID'].isin(matching_ids_train_list)].drop(columns=fixed_cols)\n",
        "test_filtered = test[test['ID'].isin(matching_ids_test_list)].drop(columns=fixed_cols)\n",
        "\n",
        "print(f\"🚀 최종 train 데이터 shape: {train_filtered.shape}\")\n",
        "print(f\"🚀 최종 test 데이터 shape: {test_filtered.shape}\")\n",
        "\n",
        "train_filtered.to_csv('/content/drive/MyDrive/base_file/train_vips_A.csv', index=False)\n",
        "test_filtered.to_csv('/content/drive/MyDrive/base_file/test_vips_A.csv', index=False)"
      ]
    },
    {
      "cell_type": "code",
      "source": [
        "train = pd.read_csv('/content/drive/MyDrive/base_file/base_clean_train.csv')\n",
        "test = pd.read_csv('/content/drive/MyDrive/base_file/base_clean_test.csv')\n",
        "\n",
        "train_B = train[train['Segment'] == 'B']\n",
        "\n",
        "cols_to_check = [col for col in train.columns if col not in ['ID', 'Segment']]\n",
        "\n",
        "def is_fixed_column(df, col):\n",
        "    return df[col].nunique() == 1\n",
        "\n",
        "fixed_columns_B = {col: train_B[col].iloc[0] for col in cols_to_check if is_fixed_column(train_B, col)}\n",
        "max_column_values = fixed_columns_B.copy()\n",
        "\n",
        "fixed_cols = list(max_column_values.keys())\n",
        "\n",
        "print(f\"📦 고정된 칼럼 {len(fixed_cols)}개 제거할 예정입니다.\")"
      ],
      "metadata": {
        "colab": {
          "base_uri": "https://localhost:8080/"
        },
        "id": "odcr0IgxML2c",
        "outputId": "4bb4463f-056c-4f89-d2a8-7d97c7bdb4af"
      },
      "execution_count": null,
      "outputs": [
        {
          "output_type": "stream",
          "name": "stderr",
          "text": [
            "<ipython-input-5-97e9adbb6c03>:1: DtypeWarning: Columns (281,355) have mixed types. Specify dtype option on import or set low_memory=False.\n",
            "  train = pd.read_csv('/content/drive/MyDrive/base_file/base_clean_train.csv')\n",
            "<ipython-input-5-97e9adbb6c03>:2: DtypeWarning: Columns (280) have mixed types. Specify dtype option on import or set low_memory=False.\n",
            "  test = pd.read_csv('/content/drive/MyDrive/base_file/base_clean_test.csv')\n"
          ]
        },
        {
          "output_type": "stream",
          "name": "stdout",
          "text": [
            "📦 고정된 칼럼 121개 제거할 예정입니다.\n"
          ]
        }
      ]
    },
    {
      "cell_type": "code",
      "source": [
        "matching_ids_train = train.copy()\n",
        "for col, value in max_column_values.items():\n",
        "    matching_ids_train = matching_ids_train[matching_ids_train[col] == value]\n",
        "\n",
        "matching_ids_train_grouped = matching_ids_train.groupby('ID').filter(lambda x: len(x) == 6)\n",
        "matching_ids_train_list = matching_ids_train_grouped['ID'].unique()\n",
        "\n",
        "matching_ids_test = test.copy()\n",
        "for col, value in max_column_values.items():\n",
        "    matching_ids_test = matching_ids_test[matching_ids_test[col] == value]\n",
        "\n",
        "matching_ids_test_grouped = matching_ids_test.groupby('ID').filter(lambda x: len(x) == 6)\n",
        "matching_ids_test_list = matching_ids_test_grouped['ID'].unique()\n",
        "\n",
        "train_filtered = train[train['ID'].isin(matching_ids_train_list)].drop(columns=fixed_cols)\n",
        "test_filtered = test[test['ID'].isin(matching_ids_test_list)].drop(columns=fixed_cols)\n",
        "\n",
        "print(f\"🚀 최종 train 데이터 shape: {train_filtered.shape}\")\n",
        "print(f\"🚀 최종 test 데이터 shape: {test_filtered.shape}\")\n",
        "\n",
        "train_filtered.to_csv('/content/drive/MyDrive/base_file/train_vips_B.csv', index=False)\n",
        "test_filtered.to_csv('/content/drive/MyDrive/base_file/test_vips_B.csv', index=False)"
      ],
      "metadata": {
        "colab": {
          "base_uri": "https://localhost:8080/"
        },
        "id": "cfrm0vTmMlQ3",
        "outputId": "7d78c7b3-d7a8-418b-ec39-225f07b6e722"
      },
      "execution_count": null,
      "outputs": [
        {
          "output_type": "stream",
          "name": "stdout",
          "text": [
            "🚀 최종 train 데이터 shape: (127746, 625)\n",
            "🚀 최종 test 데이터 shape: (31998, 624)\n"
          ]
        }
      ]
    },
    {
      "cell_type": "code",
      "source": [
        "# 해당 코드부터 v2-8 TPU 대신 L4 GPU 사용."
      ],
      "metadata": {
        "id": "Pfw_xgqtDYSS"
      },
      "execution_count": null,
      "outputs": []
    },
    {
      "cell_type": "code",
      "source": [
        "!pip install catboost==1.2.8"
      ],
      "metadata": {
        "colab": {
          "base_uri": "https://localhost:8080/"
        },
        "id": "Kp97Piy5DEcK",
        "outputId": "f97250f1-cc14-4454-b853-53d3924767be"
      },
      "execution_count": 1,
      "outputs": [
        {
          "output_type": "stream",
          "name": "stdout",
          "text": [
            "Collecting catboost==1.2.8\n",
            "  Downloading catboost-1.2.8-cp311-cp311-manylinux2014_x86_64.whl.metadata (1.2 kB)\n",
            "Requirement already satisfied: graphviz in /usr/local/lib/python3.11/dist-packages (from catboost==1.2.8) (0.20.3)\n",
            "Requirement already satisfied: matplotlib in /usr/local/lib/python3.11/dist-packages (from catboost==1.2.8) (3.10.0)\n",
            "Requirement already satisfied: numpy<3.0,>=1.16.0 in /usr/local/lib/python3.11/dist-packages (from catboost==1.2.8) (2.0.2)\n",
            "Requirement already satisfied: pandas>=0.24 in /usr/local/lib/python3.11/dist-packages (from catboost==1.2.8) (2.2.2)\n",
            "Requirement already satisfied: scipy in /usr/local/lib/python3.11/dist-packages (from catboost==1.2.8) (1.15.2)\n",
            "Requirement already satisfied: plotly in /usr/local/lib/python3.11/dist-packages (from catboost==1.2.8) (5.24.1)\n",
            "Requirement already satisfied: six in /usr/local/lib/python3.11/dist-packages (from catboost==1.2.8) (1.17.0)\n",
            "Requirement already satisfied: python-dateutil>=2.8.2 in /usr/local/lib/python3.11/dist-packages (from pandas>=0.24->catboost==1.2.8) (2.9.0.post0)\n",
            "Requirement already satisfied: pytz>=2020.1 in /usr/local/lib/python3.11/dist-packages (from pandas>=0.24->catboost==1.2.8) (2025.2)\n",
            "Requirement already satisfied: tzdata>=2022.7 in /usr/local/lib/python3.11/dist-packages (from pandas>=0.24->catboost==1.2.8) (2025.2)\n",
            "Requirement already satisfied: contourpy>=1.0.1 in /usr/local/lib/python3.11/dist-packages (from matplotlib->catboost==1.2.8) (1.3.2)\n",
            "Requirement already satisfied: cycler>=0.10 in /usr/local/lib/python3.11/dist-packages (from matplotlib->catboost==1.2.8) (0.12.1)\n",
            "Requirement already satisfied: fonttools>=4.22.0 in /usr/local/lib/python3.11/dist-packages (from matplotlib->catboost==1.2.8) (4.57.0)\n",
            "Requirement already satisfied: kiwisolver>=1.3.1 in /usr/local/lib/python3.11/dist-packages (from matplotlib->catboost==1.2.8) (1.4.8)\n",
            "Requirement already satisfied: packaging>=20.0 in /usr/local/lib/python3.11/dist-packages (from matplotlib->catboost==1.2.8) (24.2)\n",
            "Requirement already satisfied: pillow>=8 in /usr/local/lib/python3.11/dist-packages (from matplotlib->catboost==1.2.8) (11.2.1)\n",
            "Requirement already satisfied: pyparsing>=2.3.1 in /usr/local/lib/python3.11/dist-packages (from matplotlib->catboost==1.2.8) (3.2.3)\n",
            "Requirement already satisfied: tenacity>=6.2.0 in /usr/local/lib/python3.11/dist-packages (from plotly->catboost==1.2.8) (9.1.2)\n",
            "Downloading catboost-1.2.8-cp311-cp311-manylinux2014_x86_64.whl (99.2 MB)\n",
            "\u001b[2K   \u001b[90m━━━━━━━━━━━━━━━━━━━━━━━━━━━━━━━━━━━━━━━━\u001b[0m \u001b[32m99.2/99.2 MB\u001b[0m \u001b[31m25.5 MB/s\u001b[0m eta \u001b[36m0:00:00\u001b[0m\n",
            "\u001b[?25hInstalling collected packages: catboost\n",
            "Successfully installed catboost-1.2.8\n"
          ]
        }
      ]
    },
    {
      "cell_type": "code",
      "source": [
        "from google.colab import drive\n",
        "import pandas as pd\n",
        "import numpy as np\n",
        "from sklearn.model_selection import StratifiedKFold\n",
        "from sklearn.preprocessing import LabelEncoder\n",
        "from catboost import CatBoostClassifier"
      ],
      "metadata": {
        "id": "Sr7jbHcCDCpk"
      },
      "execution_count": 2,
      "outputs": []
    },
    {
      "cell_type": "code",
      "source": [
        "drive.mount('/content/drive')"
      ],
      "metadata": {
        "colab": {
          "base_uri": "https://localhost:8080/"
        },
        "id": "3aAB0g23DA4L",
        "outputId": "b4a39572-cb30-4e87-a020-d9903a1f638d"
      },
      "execution_count": 3,
      "outputs": [
        {
          "output_type": "stream",
          "name": "stdout",
          "text": [
            "Mounted at /content/drive\n"
          ]
        }
      ]
    },
    {
      "cell_type": "code",
      "execution_count": 4,
      "metadata": {
        "colab": {
          "base_uri": "https://localhost:8080/"
        },
        "id": "tOvM92Fca_jK",
        "outputId": "9bf080b4-2ca9-498d-b7cf-6137fc1d862e"
      },
      "outputs": [
        {
          "output_type": "stream",
          "name": "stdout",
          "text": [
            "\n",
            "🚀 단일 Model Run 시작\n",
            "📂 Fold 1\n",
            "0:\tlearn: 1.5336602\ttest: 1.5334288\tbest: 1.5334288 (0)\ttotal: 29.6ms\tremaining: 59.1s\n",
            "100:\tlearn: 0.6733630\ttest: 0.6897028\tbest: 0.6897028 (100)\ttotal: 2.02s\tremaining: 37.9s\n",
            "200:\tlearn: 0.6079425\ttest: 0.6302349\tbest: 0.6302349 (200)\ttotal: 4.01s\tremaining: 35.9s\n",
            "300:\tlearn: 0.5725195\ttest: 0.5980729\tbest: 0.5980729 (300)\ttotal: 5.99s\tremaining: 33.8s\n",
            "400:\tlearn: 0.5478445\ttest: 0.5767713\tbest: 0.5767713 (400)\ttotal: 7.96s\tremaining: 31.7s\n",
            "500:\tlearn: 0.5277363\ttest: 0.5585611\tbest: 0.5585611 (500)\ttotal: 9.94s\tremaining: 29.7s\n",
            "600:\tlearn: 0.5102823\ttest: 0.5425113\tbest: 0.5425113 (600)\ttotal: 11.9s\tremaining: 27.8s\n",
            "700:\tlearn: 0.4955293\ttest: 0.5290536\tbest: 0.5290536 (700)\ttotal: 13.9s\tremaining: 25.8s\n",
            "800:\tlearn: 0.4829047\ttest: 0.5180775\tbest: 0.5180775 (800)\ttotal: 15.9s\tremaining: 23.8s\n",
            "900:\tlearn: 0.4714739\ttest: 0.5081184\tbest: 0.5081184 (900)\ttotal: 17.9s\tremaining: 21.9s\n",
            "1000:\tlearn: 0.4607617\ttest: 0.4985544\tbest: 0.4985544 (1000)\ttotal: 19.9s\tremaining: 19.9s\n",
            "1100:\tlearn: 0.4509605\ttest: 0.4899138\tbest: 0.4899138 (1100)\ttotal: 21.9s\tremaining: 17.9s\n",
            "1200:\tlearn: 0.4418647\ttest: 0.4822882\tbest: 0.4822882 (1200)\ttotal: 23.9s\tremaining: 15.9s\n",
            "1300:\tlearn: 0.4335498\ttest: 0.4755454\tbest: 0.4755454 (1300)\ttotal: 25.8s\tremaining: 13.9s\n",
            "1400:\tlearn: 0.4255061\ttest: 0.4688512\tbest: 0.4688512 (1400)\ttotal: 27.8s\tremaining: 11.9s\n",
            "1500:\tlearn: 0.4181304\ttest: 0.4624670\tbest: 0.4624670 (1500)\ttotal: 29.8s\tremaining: 9.91s\n",
            "1600:\tlearn: 0.4107336\ttest: 0.4563019\tbest: 0.4563019 (1600)\ttotal: 31.8s\tremaining: 7.92s\n",
            "1700:\tlearn: 0.4042380\ttest: 0.4513507\tbest: 0.4513507 (1700)\ttotal: 33.7s\tremaining: 5.93s\n",
            "1800:\tlearn: 0.3979111\ttest: 0.4462654\tbest: 0.4462654 (1800)\ttotal: 35.7s\tremaining: 3.94s\n",
            "1900:\tlearn: 0.3920309\ttest: 0.4415453\tbest: 0.4415453 (1900)\ttotal: 37.6s\tremaining: 1.96s\n",
            "1999:\tlearn: 0.3861751\ttest: 0.4369145\tbest: 0.4369145 (1999)\ttotal: 39.6s\tremaining: 0us\n",
            "bestTest = 0.436914497\n",
            "bestIteration = 1999\n",
            "📂 Fold 2\n",
            "0:\tlearn: 1.5334389\ttest: 1.5343344\tbest: 1.5343344 (0)\ttotal: 23.4ms\tremaining: 46.8s\n",
            "100:\tlearn: 0.6733425\ttest: 0.6903918\tbest: 0.6903918 (100)\ttotal: 2.07s\tremaining: 38.9s\n",
            "200:\tlearn: 0.6080100\ttest: 0.6304142\tbest: 0.6304142 (200)\ttotal: 4.13s\tremaining: 36.9s\n",
            "300:\tlearn: 0.5727569\ttest: 0.5985909\tbest: 0.5985909 (300)\ttotal: 6.16s\tremaining: 34.8s\n",
            "400:\tlearn: 0.5474372\ttest: 0.5756208\tbest: 0.5756208 (400)\ttotal: 8.18s\tremaining: 32.6s\n",
            "500:\tlearn: 0.5274517\ttest: 0.5575631\tbest: 0.5575631 (500)\ttotal: 10.2s\tremaining: 30.6s\n",
            "600:\tlearn: 0.5105835\ttest: 0.5419221\tbest: 0.5419221 (600)\ttotal: 12.3s\tremaining: 28.6s\n",
            "700:\tlearn: 0.4961285\ttest: 0.5289679\tbest: 0.5289679 (700)\ttotal: 14.3s\tremaining: 26.6s\n",
            "800:\tlearn: 0.4834619\ttest: 0.5181619\tbest: 0.5181619 (800)\ttotal: 16.4s\tremaining: 24.6s\n",
            "900:\tlearn: 0.4721117\ttest: 0.5082062\tbest: 0.5082062 (900)\ttotal: 18.5s\tremaining: 22.5s\n",
            "1000:\tlearn: 0.4617990\ttest: 0.4994440\tbest: 0.4994440 (1000)\ttotal: 20.5s\tremaining: 20.4s\n",
            "1100:\tlearn: 0.4512526\ttest: 0.4902854\tbest: 0.4902854 (1100)\ttotal: 22.5s\tremaining: 18.4s\n",
            "1200:\tlearn: 0.4421197\ttest: 0.4820416\tbest: 0.4820416 (1200)\ttotal: 24.6s\tremaining: 16.4s\n",
            "1300:\tlearn: 0.4334877\ttest: 0.4745406\tbest: 0.4745406 (1300)\ttotal: 26.6s\tremaining: 14.3s\n",
            "1400:\tlearn: 0.4256236\ttest: 0.4677660\tbest: 0.4677660 (1400)\ttotal: 28.7s\tremaining: 12.3s\n",
            "1500:\tlearn: 0.4180226\ttest: 0.4616222\tbest: 0.4616222 (1500)\ttotal: 30.8s\tremaining: 10.2s\n",
            "1600:\tlearn: 0.4105592\ttest: 0.4553373\tbest: 0.4553373 (1600)\ttotal: 32.8s\tremaining: 8.18s\n",
            "1700:\tlearn: 0.4037932\ttest: 0.4500944\tbest: 0.4500944 (1700)\ttotal: 34.9s\tremaining: 6.13s\n",
            "1800:\tlearn: 0.3972691\ttest: 0.4448633\tbest: 0.4448633 (1800)\ttotal: 36.9s\tremaining: 4.08s\n",
            "1900:\tlearn: 0.3913559\ttest: 0.4400136\tbest: 0.4400136 (1900)\ttotal: 38.9s\tremaining: 2.02s\n",
            "1999:\tlearn: 0.3856784\ttest: 0.4354723\tbest: 0.4354723 (1999)\ttotal: 40.9s\tremaining: 0us\n",
            "bestTest = 0.4354723259\n",
            "bestIteration = 1999\n",
            "📂 Fold 3\n",
            "0:\tlearn: 1.5339834\ttest: 1.5345327\tbest: 1.5345327 (0)\ttotal: 25.2ms\tremaining: 50.5s\n",
            "100:\tlearn: 0.6741173\ttest: 0.6943330\tbest: 0.6943330 (100)\ttotal: 2.08s\tremaining: 39.2s\n",
            "200:\tlearn: 0.6082887\ttest: 0.6330807\tbest: 0.6330807 (200)\ttotal: 4.11s\tremaining: 36.8s\n",
            "300:\tlearn: 0.5733135\ttest: 0.6009681\tbest: 0.6009681 (300)\ttotal: 6.14s\tremaining: 34.7s\n",
            "400:\tlearn: 0.5479501\ttest: 0.5781834\tbest: 0.5781834 (400)\ttotal: 8.21s\tremaining: 32.7s\n",
            "500:\tlearn: 0.5281555\ttest: 0.5610408\tbest: 0.5610408 (500)\ttotal: 10.3s\tremaining: 30.7s\n",
            "600:\tlearn: 0.5107090\ttest: 0.5449773\tbest: 0.5449773 (600)\ttotal: 12.3s\tremaining: 28.7s\n",
            "700:\tlearn: 0.4962839\ttest: 0.5321309\tbest: 0.5321309 (700)\ttotal: 14.4s\tremaining: 26.6s\n",
            "800:\tlearn: 0.4830769\ttest: 0.5200106\tbest: 0.5200106 (800)\ttotal: 16.4s\tremaining: 24.6s\n",
            "900:\tlearn: 0.4716298\ttest: 0.5102038\tbest: 0.5102038 (900)\ttotal: 18.5s\tremaining: 22.6s\n",
            "1000:\tlearn: 0.4613869\ttest: 0.5019893\tbest: 0.5019893 (1000)\ttotal: 20.5s\tremaining: 20.5s\n",
            "1100:\tlearn: 0.4515593\ttest: 0.4932837\tbest: 0.4932837 (1100)\ttotal: 22.6s\tremaining: 18.5s\n",
            "1200:\tlearn: 0.4427782\ttest: 0.4854685\tbest: 0.4854685 (1200)\ttotal: 24.6s\tremaining: 16.4s\n",
            "1300:\tlearn: 0.4347708\ttest: 0.4789697\tbest: 0.4789697 (1300)\ttotal: 26.7s\tremaining: 14.3s\n",
            "1400:\tlearn: 0.4267092\ttest: 0.4718329\tbest: 0.4718329 (1400)\ttotal: 28.7s\tremaining: 12.3s\n",
            "1500:\tlearn: 0.4193178\ttest: 0.4655632\tbest: 0.4655632 (1500)\ttotal: 30.8s\tremaining: 10.2s\n",
            "1600:\tlearn: 0.4115973\ttest: 0.4589110\tbest: 0.4589110 (1600)\ttotal: 32.8s\tremaining: 8.18s\n",
            "1700:\tlearn: 0.4049629\ttest: 0.4534501\tbest: 0.4534501 (1700)\ttotal: 34.9s\tremaining: 6.13s\n",
            "1800:\tlearn: 0.3983314\ttest: 0.4479497\tbest: 0.4479497 (1800)\ttotal: 36.9s\tremaining: 4.08s\n",
            "1900:\tlearn: 0.3920546\ttest: 0.4427169\tbest: 0.4427169 (1900)\ttotal: 38.9s\tremaining: 2.02s\n",
            "1999:\tlearn: 0.3862374\ttest: 0.4381771\tbest: 0.4381771 (1999)\ttotal: 40.9s\tremaining: 0us\n",
            "bestTest = 0.438177124\n",
            "bestIteration = 1999\n",
            "📂 Fold 4\n",
            "0:\tlearn: 1.5333008\ttest: 1.5342209\tbest: 1.5342209 (0)\ttotal: 24.5ms\tremaining: 49s\n",
            "100:\tlearn: 0.6745368\ttest: 0.6924943\tbest: 0.6924943 (100)\ttotal: 2.07s\tremaining: 38.9s\n",
            "200:\tlearn: 0.6080165\ttest: 0.6320518\tbest: 0.6320518 (200)\ttotal: 4.09s\tremaining: 36.6s\n",
            "300:\tlearn: 0.5733651\ttest: 0.6001530\tbest: 0.6001530 (300)\ttotal: 6.12s\tremaining: 34.5s\n",
            "400:\tlearn: 0.5474072\ttest: 0.5767256\tbest: 0.5767256 (400)\ttotal: 8.2s\tremaining: 32.7s\n",
            "500:\tlearn: 0.5278781\ttest: 0.5590783\tbest: 0.5590783 (500)\ttotal: 10.3s\tremaining: 30.7s\n",
            "600:\tlearn: 0.5103714\ttest: 0.5424424\tbest: 0.5424424 (600)\ttotal: 12.3s\tremaining: 28.7s\n",
            "700:\tlearn: 0.4954481\ttest: 0.5287475\tbest: 0.5287475 (700)\ttotal: 14.4s\tremaining: 26.7s\n",
            "800:\tlearn: 0.4824650\ttest: 0.5170655\tbest: 0.5170655 (800)\ttotal: 16.5s\tremaining: 24.7s\n",
            "900:\tlearn: 0.4711356\ttest: 0.5070451\tbest: 0.5070451 (900)\ttotal: 18.6s\tremaining: 22.6s\n",
            "1000:\tlearn: 0.4606855\ttest: 0.4978219\tbest: 0.4978219 (1000)\ttotal: 20.6s\tremaining: 20.6s\n",
            "1100:\tlearn: 0.4508622\ttest: 0.4896403\tbest: 0.4896403 (1100)\ttotal: 22.7s\tremaining: 18.5s\n",
            "1200:\tlearn: 0.4416745\ttest: 0.4814978\tbest: 0.4814978 (1200)\ttotal: 24.8s\tremaining: 16.5s\n",
            "1300:\tlearn: 0.4331116\ttest: 0.4740795\tbest: 0.4740795 (1300)\ttotal: 26.8s\tremaining: 14.4s\n",
            "1400:\tlearn: 0.4255471\ttest: 0.4676561\tbest: 0.4676561 (1400)\ttotal: 28.9s\tremaining: 12.3s\n",
            "1500:\tlearn: 0.4182589\ttest: 0.4615289\tbest: 0.4615289 (1500)\ttotal: 30.9s\tremaining: 10.3s\n",
            "1600:\tlearn: 0.4114996\ttest: 0.4558535\tbest: 0.4558535 (1600)\ttotal: 32.9s\tremaining: 8.2s\n",
            "1700:\tlearn: 0.4044664\ttest: 0.4499085\tbest: 0.4499085 (1700)\ttotal: 34.9s\tremaining: 6.14s\n",
            "1800:\tlearn: 0.3981606\ttest: 0.4447033\tbest: 0.4447033 (1800)\ttotal: 37s\tremaining: 4.08s\n",
            "1900:\tlearn: 0.3922988\ttest: 0.4398879\tbest: 0.4398879 (1900)\ttotal: 39s\tremaining: 2.03s\n",
            "1999:\tlearn: 0.3865216\ttest: 0.4354007\tbest: 0.4354007 (1999)\ttotal: 41s\tremaining: 0us\n",
            "bestTest = 0.4354007424\n",
            "bestIteration = 1999\n",
            "📂 Fold 5\n",
            "0:\tlearn: 1.5334155\ttest: 1.5337388\tbest: 1.5337388 (0)\ttotal: 24ms\tremaining: 48s\n",
            "100:\tlearn: 0.6741564\ttest: 0.6901662\tbest: 0.6901662 (100)\ttotal: 2.02s\tremaining: 38s\n",
            "200:\tlearn: 0.6082084\ttest: 0.6302263\tbest: 0.6302263 (200)\ttotal: 3.98s\tremaining: 35.6s\n",
            "300:\tlearn: 0.5720883\ttest: 0.5967524\tbest: 0.5967524 (300)\ttotal: 5.95s\tremaining: 33.6s\n",
            "400:\tlearn: 0.5477428\ttest: 0.5740882\tbest: 0.5740882 (400)\ttotal: 7.96s\tremaining: 31.7s\n",
            "500:\tlearn: 0.5270038\ttest: 0.5546445\tbest: 0.5546445 (500)\ttotal: 10s\tremaining: 29.9s\n",
            "600:\tlearn: 0.5100178\ttest: 0.5388452\tbest: 0.5388452 (600)\ttotal: 12s\tremaining: 27.9s\n",
            "700:\tlearn: 0.4958981\ttest: 0.5265537\tbest: 0.5265537 (700)\ttotal: 14s\tremaining: 26s\n",
            "800:\tlearn: 0.4824351\ttest: 0.5146720\tbest: 0.5146720 (800)\ttotal: 16s\tremaining: 24s\n",
            "900:\tlearn: 0.4703356\ttest: 0.5045252\tbest: 0.5045252 (900)\ttotal: 18.1s\tremaining: 22.1s\n",
            "1000:\tlearn: 0.4596933\ttest: 0.4955599\tbest: 0.4955599 (1000)\ttotal: 20.1s\tremaining: 20.1s\n",
            "1100:\tlearn: 0.4502315\ttest: 0.4876587\tbest: 0.4876587 (1100)\ttotal: 22.1s\tremaining: 18.1s\n",
            "1200:\tlearn: 0.4411695\ttest: 0.4799243\tbest: 0.4799243 (1200)\ttotal: 24.1s\tremaining: 16s\n",
            "1300:\tlearn: 0.4328535\ttest: 0.4727628\tbest: 0.4727628 (1300)\ttotal: 26.1s\tremaining: 14s\n",
            "1400:\tlearn: 0.4248300\ttest: 0.4658316\tbest: 0.4658316 (1400)\ttotal: 28.1s\tremaining: 12s\n",
            "1500:\tlearn: 0.4174725\ttest: 0.4601581\tbest: 0.4601581 (1500)\ttotal: 30.1s\tremaining: 10s\n",
            "1600:\tlearn: 0.4104608\ttest: 0.4544623\tbest: 0.4544623 (1600)\ttotal: 32.1s\tremaining: 8.01s\n",
            "1700:\tlearn: 0.4036608\ttest: 0.4491899\tbest: 0.4491899 (1700)\ttotal: 34.1s\tremaining: 6s\n",
            "1800:\tlearn: 0.3973025\ttest: 0.4438888\tbest: 0.4438888 (1800)\ttotal: 36.1s\tremaining: 3.99s\n",
            "1900:\tlearn: 0.3911549\ttest: 0.4388287\tbest: 0.4388287 (1900)\ttotal: 38.1s\tremaining: 1.99s\n",
            "1999:\tlearn: 0.3853717\ttest: 0.4338039\tbest: 0.4338039 (1999)\ttotal: 40.1s\tremaining: 0us\n",
            "bestTest = 0.4338038522\n",
            "bestIteration = 1999\n",
            "📂 Fold 6\n",
            "0:\tlearn: 1.5339568\ttest: 1.5340620\tbest: 1.5340620 (0)\ttotal: 23.6ms\tremaining: 47.2s\n",
            "100:\tlearn: 0.6755112\ttest: 0.6812833\tbest: 0.6812833 (100)\ttotal: 2.02s\tremaining: 38.1s\n",
            "200:\tlearn: 0.6083335\ttest: 0.6229774\tbest: 0.6229774 (200)\ttotal: 4.01s\tremaining: 35.9s\n",
            "300:\tlearn: 0.5726327\ttest: 0.5925260\tbest: 0.5925260 (300)\ttotal: 5.99s\tremaining: 33.8s\n",
            "400:\tlearn: 0.5474418\ttest: 0.5718797\tbest: 0.5718797 (400)\ttotal: 7.96s\tremaining: 31.8s\n",
            "500:\tlearn: 0.5273047\ttest: 0.5550855\tbest: 0.5550855 (500)\ttotal: 9.99s\tremaining: 29.9s\n",
            "600:\tlearn: 0.5099430\ttest: 0.5399792\tbest: 0.5399792 (600)\ttotal: 12s\tremaining: 28s\n",
            "700:\tlearn: 0.4954041\ttest: 0.5276775\tbest: 0.5276775 (700)\ttotal: 14.1s\tremaining: 26.1s\n",
            "800:\tlearn: 0.4826529\ttest: 0.5172946\tbest: 0.5172946 (800)\ttotal: 16s\tremaining: 24s\n",
            "900:\tlearn: 0.4715265\ttest: 0.5078171\tbest: 0.5078171 (900)\ttotal: 18s\tremaining: 22s\n",
            "1000:\tlearn: 0.4610313\ttest: 0.4990298\tbest: 0.4990298 (1000)\ttotal: 20s\tremaining: 20s\n",
            "1100:\tlearn: 0.4510503\ttest: 0.4908233\tbest: 0.4908233 (1100)\ttotal: 22.1s\tremaining: 18s\n",
            "1200:\tlearn: 0.4420234\ttest: 0.4832565\tbest: 0.4832565 (1200)\ttotal: 24.1s\tremaining: 16s\n",
            "1300:\tlearn: 0.4334644\ttest: 0.4764956\tbest: 0.4764956 (1300)\ttotal: 26.1s\tremaining: 14s\n",
            "1400:\tlearn: 0.4257706\ttest: 0.4698650\tbest: 0.4698650 (1400)\ttotal: 28s\tremaining: 12s\n",
            "1500:\tlearn: 0.4183400\ttest: 0.4638618\tbest: 0.4638618 (1500)\ttotal: 30s\tremaining: 9.97s\n",
            "1600:\tlearn: 0.4115553\ttest: 0.4584591\tbest: 0.4584591 (1600)\ttotal: 32s\tremaining: 7.96s\n",
            "1700:\tlearn: 0.4045849\ttest: 0.4527544\tbest: 0.4527544 (1700)\ttotal: 33.9s\tremaining: 5.97s\n",
            "1800:\tlearn: 0.3984198\ttest: 0.4480501\tbest: 0.4480501 (1800)\ttotal: 35.9s\tremaining: 3.97s\n",
            "1900:\tlearn: 0.3923925\ttest: 0.4430682\tbest: 0.4430682 (1900)\ttotal: 37.9s\tremaining: 1.97s\n",
            "1999:\tlearn: 0.3864464\ttest: 0.4381075\tbest: 0.4381075 (1999)\ttotal: 39.8s\tremaining: 0us\n",
            "bestTest = 0.4381075362\n",
            "bestIteration = 1999\n",
            "📂 Fold 7\n",
            "0:\tlearn: 1.5337307\ttest: 1.5334871\tbest: 1.5334871 (0)\ttotal: 26.5ms\tremaining: 52.9s\n",
            "100:\tlearn: 0.6733672\ttest: 0.6848656\tbest: 0.6848656 (100)\ttotal: 2.1s\tremaining: 39.5s\n",
            "200:\tlearn: 0.6082744\ttest: 0.6232619\tbest: 0.6232619 (200)\ttotal: 4.14s\tremaining: 37s\n",
            "300:\tlearn: 0.5735347\ttest: 0.5910049\tbest: 0.5910049 (300)\ttotal: 6.17s\tremaining: 34.8s\n",
            "400:\tlearn: 0.5488223\ttest: 0.5685372\tbest: 0.5685372 (400)\ttotal: 8.2s\tremaining: 32.7s\n",
            "500:\tlearn: 0.5282999\ttest: 0.5496173\tbest: 0.5496173 (500)\ttotal: 10.2s\tremaining: 30.6s\n",
            "600:\tlearn: 0.5111932\ttest: 0.5336768\tbest: 0.5336768 (600)\ttotal: 12.3s\tremaining: 28.7s\n",
            "700:\tlearn: 0.4964003\ttest: 0.5206545\tbest: 0.5206545 (700)\ttotal: 14.4s\tremaining: 26.7s\n",
            "800:\tlearn: 0.4837490\ttest: 0.5097652\tbest: 0.5097652 (800)\ttotal: 16.4s\tremaining: 24.6s\n",
            "900:\tlearn: 0.4720914\ttest: 0.4991584\tbest: 0.4991584 (900)\ttotal: 18.5s\tremaining: 22.5s\n",
            "1000:\tlearn: 0.4614643\ttest: 0.4897058\tbest: 0.4897058 (1000)\ttotal: 20.5s\tremaining: 20.5s\n",
            "1100:\tlearn: 0.4519826\ttest: 0.4818782\tbest: 0.4818782 (1100)\ttotal: 22.6s\tremaining: 18.4s\n",
            "1200:\tlearn: 0.4428883\ttest: 0.4742876\tbest: 0.4742876 (1200)\ttotal: 24.6s\tremaining: 16.4s\n",
            "1300:\tlearn: 0.4345073\ttest: 0.4670862\tbest: 0.4670862 (1300)\ttotal: 26.7s\tremaining: 14.3s\n",
            "1400:\tlearn: 0.4269110\ttest: 0.4607985\tbest: 0.4607985 (1400)\ttotal: 28.7s\tremaining: 12.3s\n",
            "1500:\tlearn: 0.4194490\ttest: 0.4546707\tbest: 0.4546707 (1500)\ttotal: 30.7s\tremaining: 10.2s\n",
            "1600:\tlearn: 0.4126785\ttest: 0.4492151\tbest: 0.4492151 (1600)\ttotal: 32.7s\tremaining: 8.16s\n",
            "1700:\tlearn: 0.4062009\ttest: 0.4437731\tbest: 0.4437731 (1700)\ttotal: 34.7s\tremaining: 6.11s\n",
            "1800:\tlearn: 0.3994491\ttest: 0.4380959\tbest: 0.4380959 (1800)\ttotal: 36.8s\tremaining: 4.06s\n",
            "1900:\tlearn: 0.3933557\ttest: 0.4329331\tbest: 0.4329331 (1900)\ttotal: 38.8s\tremaining: 2.02s\n",
            "1999:\tlearn: 0.3876395\ttest: 0.4283731\tbest: 0.4283731 (1999)\ttotal: 40.8s\tremaining: 0us\n",
            "bestTest = 0.4283730965\n",
            "bestIteration = 1999\n",
            "📂 Fold 8\n",
            "0:\tlearn: 1.5333519\ttest: 1.5343102\tbest: 1.5343102 (0)\ttotal: 25ms\tremaining: 49.9s\n",
            "100:\tlearn: 0.6756380\ttest: 0.6985701\tbest: 0.6985701 (100)\ttotal: 2.07s\tremaining: 39s\n",
            "200:\tlearn: 0.6097221\ttest: 0.6343161\tbest: 0.6343161 (200)\ttotal: 4.07s\tremaining: 36.4s\n",
            "300:\tlearn: 0.5737080\ttest: 0.6007033\tbest: 0.6007033 (300)\ttotal: 6.07s\tremaining: 34.2s\n",
            "400:\tlearn: 0.5493683\ttest: 0.5775049\tbest: 0.5775049 (400)\ttotal: 8.06s\tremaining: 32.1s\n",
            "500:\tlearn: 0.5292990\ttest: 0.5588438\tbest: 0.5588438 (500)\ttotal: 10.1s\tremaining: 30.1s\n",
            "600:\tlearn: 0.5121656\ttest: 0.5428532\tbest: 0.5428532 (600)\ttotal: 12.1s\tremaining: 28.1s\n",
            "700:\tlearn: 0.4970668\ttest: 0.5284536\tbest: 0.5284536 (700)\ttotal: 14.1s\tremaining: 26.2s\n",
            "800:\tlearn: 0.4840335\ttest: 0.5169962\tbest: 0.5169962 (800)\ttotal: 16.2s\tremaining: 24.2s\n",
            "900:\tlearn: 0.4724680\ttest: 0.5066602\tbest: 0.5066602 (900)\ttotal: 18.2s\tremaining: 22.2s\n",
            "1000:\tlearn: 0.4620536\ttest: 0.4976839\tbest: 0.4976839 (1000)\ttotal: 20.2s\tremaining: 20.2s\n",
            "1100:\tlearn: 0.4527260\ttest: 0.4899556\tbest: 0.4899556 (1100)\ttotal: 22.2s\tremaining: 18.1s\n",
            "1200:\tlearn: 0.4433790\ttest: 0.4815382\tbest: 0.4815382 (1200)\ttotal: 24.2s\tremaining: 16.1s\n",
            "1300:\tlearn: 0.4346937\ttest: 0.4741232\tbest: 0.4741232 (1300)\ttotal: 26.3s\tremaining: 14.1s\n",
            "1400:\tlearn: 0.4265202\ttest: 0.4669989\tbest: 0.4669989 (1400)\ttotal: 28.2s\tremaining: 12.1s\n",
            "1500:\tlearn: 0.4185736\ttest: 0.4602118\tbest: 0.4602118 (1500)\ttotal: 30.3s\tremaining: 10.1s\n",
            "1600:\tlearn: 0.4116663\ttest: 0.4546920\tbest: 0.4546920 (1600)\ttotal: 32.2s\tremaining: 8.03s\n",
            "1700:\tlearn: 0.4052401\ttest: 0.4494726\tbest: 0.4494726 (1700)\ttotal: 34.2s\tremaining: 6.01s\n",
            "1800:\tlearn: 0.3987690\ttest: 0.4441407\tbest: 0.4441407 (1800)\ttotal: 36.2s\tremaining: 4s\n",
            "1900:\tlearn: 0.3926627\ttest: 0.4390794\tbest: 0.4390794 (1900)\ttotal: 38.2s\tremaining: 1.99s\n",
            "1999:\tlearn: 0.3869178\ttest: 0.4340986\tbest: 0.4340986 (1999)\ttotal: 40.1s\tremaining: 0us\n",
            "bestTest = 0.4340985727\n",
            "bestIteration = 1999\n",
            "📂 Fold 9\n",
            "0:\tlearn: 1.5336289\ttest: 1.5337387\tbest: 1.5337387 (0)\ttotal: 24.4ms\tremaining: 48.8s\n",
            "100:\tlearn: 0.6737946\ttest: 0.6819489\tbest: 0.6819489 (100)\ttotal: 2.06s\tremaining: 38.7s\n",
            "200:\tlearn: 0.6093245\ttest: 0.6228160\tbest: 0.6228160 (200)\ttotal: 4.06s\tremaining: 36.3s\n",
            "300:\tlearn: 0.5740271\ttest: 0.5920715\tbest: 0.5920715 (300)\ttotal: 6.04s\tremaining: 34.1s\n",
            "400:\tlearn: 0.5487391\ttest: 0.5687242\tbest: 0.5687242 (400)\ttotal: 8.05s\tremaining: 32.1s\n",
            "500:\tlearn: 0.5282221\ttest: 0.5513905\tbest: 0.5513905 (500)\ttotal: 10.1s\tremaining: 30.2s\n",
            "600:\tlearn: 0.5108271\ttest: 0.5361561\tbest: 0.5361561 (600)\ttotal: 12.1s\tremaining: 28.2s\n",
            "700:\tlearn: 0.4962308\ttest: 0.5238834\tbest: 0.5238834 (700)\ttotal: 14.2s\tremaining: 26.3s\n",
            "800:\tlearn: 0.4838513\ttest: 0.5136495\tbest: 0.5136495 (800)\ttotal: 16.2s\tremaining: 24.2s\n",
            "900:\tlearn: 0.4722638\ttest: 0.5038033\tbest: 0.5038033 (900)\ttotal: 18.2s\tremaining: 22.2s\n",
            "1000:\tlearn: 0.4616382\ttest: 0.4948635\tbest: 0.4948635 (1000)\ttotal: 20.2s\tremaining: 20.2s\n",
            "1100:\tlearn: 0.4517581\ttest: 0.4868986\tbest: 0.4868986 (1100)\ttotal: 22.2s\tremaining: 18.1s\n",
            "1200:\tlearn: 0.4422694\ttest: 0.4791437\tbest: 0.4791437 (1200)\ttotal: 24.2s\tremaining: 16.1s\n",
            "1300:\tlearn: 0.4337959\ttest: 0.4721523\tbest: 0.4721523 (1300)\ttotal: 26.2s\tremaining: 14.1s\n",
            "1400:\tlearn: 0.4255786\ttest: 0.4655403\tbest: 0.4655403 (1400)\ttotal: 28.3s\tremaining: 12.1s\n",
            "1500:\tlearn: 0.4182425\ttest: 0.4595774\tbest: 0.4595774 (1500)\ttotal: 30.2s\tremaining: 10.1s\n",
            "1600:\tlearn: 0.4110106\ttest: 0.4538744\tbest: 0.4538744 (1600)\ttotal: 32.2s\tremaining: 8.04s\n",
            "1700:\tlearn: 0.4043027\ttest: 0.4483904\tbest: 0.4483904 (1700)\ttotal: 34.2s\tremaining: 6.02s\n",
            "1800:\tlearn: 0.3982287\ttest: 0.4434228\tbest: 0.4434228 (1800)\ttotal: 36.2s\tremaining: 4s\n",
            "1900:\tlearn: 0.3920593\ttest: 0.4383847\tbest: 0.4383847 (1900)\ttotal: 38.2s\tremaining: 1.99s\n",
            "1999:\tlearn: 0.3862976\ttest: 0.4336133\tbest: 0.4336133 (1999)\ttotal: 40.1s\tremaining: 0us\n",
            "bestTest = 0.4336133021\n",
            "bestIteration = 1999\n",
            "📂 Fold 10\n",
            "0:\tlearn: 1.5334749\ttest: 1.5339672\tbest: 1.5339672 (0)\ttotal: 24.8ms\tremaining: 49.6s\n",
            "100:\tlearn: 0.6752698\ttest: 0.6911124\tbest: 0.6911124 (100)\ttotal: 2.04s\tremaining: 38.4s\n",
            "200:\tlearn: 0.6097137\ttest: 0.6322645\tbest: 0.6322645 (200)\ttotal: 4.04s\tremaining: 36.2s\n",
            "300:\tlearn: 0.5736896\ttest: 0.5998085\tbest: 0.5998085 (300)\ttotal: 6.07s\tremaining: 34.3s\n",
            "400:\tlearn: 0.5493975\ttest: 0.5769697\tbest: 0.5769697 (400)\ttotal: 8.06s\tremaining: 32.1s\n",
            "500:\tlearn: 0.5287304\ttest: 0.5581638\tbest: 0.5581638 (500)\ttotal: 10.1s\tremaining: 30.2s\n",
            "600:\tlearn: 0.5113689\ttest: 0.5423790\tbest: 0.5423790 (600)\ttotal: 12.1s\tremaining: 28.2s\n",
            "700:\tlearn: 0.4961660\ttest: 0.5284985\tbest: 0.5284985 (700)\ttotal: 14.1s\tremaining: 26.2s\n",
            "800:\tlearn: 0.4831964\ttest: 0.5173832\tbest: 0.5173832 (800)\ttotal: 16.2s\tremaining: 24.2s\n",
            "900:\tlearn: 0.4717369\ttest: 0.5070615\tbest: 0.5070615 (900)\ttotal: 18.2s\tremaining: 22.2s\n",
            "1000:\tlearn: 0.4608164\ttest: 0.4979765\tbest: 0.4979765 (1000)\ttotal: 20.3s\tremaining: 20.2s\n",
            "1100:\tlearn: 0.4509421\ttest: 0.4892295\tbest: 0.4892295 (1100)\ttotal: 22.3s\tremaining: 18.2s\n",
            "1200:\tlearn: 0.4423357\ttest: 0.4814150\tbest: 0.4814150 (1200)\ttotal: 24.3s\tremaining: 16.1s\n",
            "1300:\tlearn: 0.4338374\ttest: 0.4740578\tbest: 0.4740287 (1299)\ttotal: 26.2s\tremaining: 14.1s\n",
            "1400:\tlearn: 0.4257385\ttest: 0.4672699\tbest: 0.4672699 (1400)\ttotal: 28.2s\tremaining: 12.1s\n",
            "1500:\tlearn: 0.4180691\ttest: 0.4606823\tbest: 0.4606823 (1500)\ttotal: 30.3s\tremaining: 10.1s\n",
            "1600:\tlearn: 0.4110950\ttest: 0.4548534\tbest: 0.4548534 (1600)\ttotal: 32.3s\tremaining: 8.04s\n",
            "1700:\tlearn: 0.4045003\ttest: 0.4496727\tbest: 0.4496727 (1700)\ttotal: 34.2s\tremaining: 6.01s\n",
            "1800:\tlearn: 0.3981822\ttest: 0.4447559\tbest: 0.4447559 (1800)\ttotal: 36.2s\tremaining: 4s\n",
            "1900:\tlearn: 0.3918610\ttest: 0.4394474\tbest: 0.4394474 (1900)\ttotal: 38.2s\tremaining: 1.99s\n",
            "1999:\tlearn: 0.3861944\ttest: 0.4346100\tbest: 0.4346100 (1999)\ttotal: 40.1s\tremaining: 0us\n",
            "bestTest = 0.4346099943\n",
            "bestIteration = 1999\n",
            "\n",
            "✅ A로 분류된 ID 수 = 40개\n",
            "🔎 A ID: ['TEST_01242', 'TEST_03623', 'TEST_06685', 'TEST_08045', 'TEST_09694', 'TEST_12508', 'TEST_23825', 'TEST_24893', 'TEST_25635', 'TEST_28024', 'TEST_31019', 'TEST_37666', 'TEST_39895', 'TEST_41053', 'TEST_42481', 'TEST_43890', 'TEST_45995', 'TEST_51233', 'TEST_52627', 'TEST_53258', 'TEST_56681', 'TEST_62589', 'TEST_63296', 'TEST_63979', 'TEST_64074', 'TEST_69364', 'TEST_73642', 'TEST_73870', 'TEST_74584', 'TEST_75097', 'TEST_75393', 'TEST_77869', 'TEST_81114', 'TEST_81971', 'TEST_85244', 'TEST_88359', 'TEST_88823', 'TEST_90758', 'TEST_91943', 'TEST_99023']\n"
          ]
        }
      ],
      "source": [
        "train = pd.read_csv('/content/drive/MyDrive/base_file/train_vips_A.csv')\n",
        "test = pd.read_csv('/content/drive/MyDrive/base_file/test_vips_A.csv')\n",
        "\n",
        "label_encoder = LabelEncoder()\n",
        "train['Segment'] = label_encoder.fit_transform(train['Segment'])\n",
        "\n",
        "X = train.drop(columns=['Segment', 'ID'])\n",
        "y = train['Segment']\n",
        "X_test = test.drop(columns=['ID'])\n",
        "\n",
        "cat_features = [col for col in X.columns if X[col].dtype == 'object']\n",
        "for col in cat_features:\n",
        "    X[col] = X[col].astype(str)\n",
        "    X_test[col] = X_test[col].astype(str)\n",
        "\n",
        "params = {\n",
        "    'iterations': 2000,\n",
        "    'learning_rate': 0.05,\n",
        "    'depth': 6,\n",
        "    'loss_function': 'MultiClass',\n",
        "    'eval_metric': 'MultiClass',\n",
        "    'verbose': 100,\n",
        "    'random_seed': 42,\n",
        "    'task_type': 'GPU',\n",
        "    'class_weights': [20, 50, 2, 1, 1],\n",
        "}\n",
        "\n",
        "n_classes = 5\n",
        "kf = StratifiedKFold(n_splits=10, shuffle=True, random_state=42)\n",
        "\n",
        "print(f\"\\n🚀 단일 Model Run 시작\")\n",
        "\n",
        "all_test_probs = np.zeros((X_test.shape[0], n_classes))\n",
        "\n",
        "for fold, (train_idx, valid_idx) in enumerate(kf.split(X, y)):\n",
        "    print(f\"📂 Fold {fold + 1}\")\n",
        "\n",
        "    X_train_fold, X_valid_fold = X.iloc[train_idx], X.iloc[valid_idx]\n",
        "    y_train_fold, y_valid_fold = y.iloc[train_idx], y.iloc[valid_idx]\n",
        "\n",
        "    model = CatBoostClassifier(**params)\n",
        "    model.fit(\n",
        "        X_train_fold, y_train_fold,\n",
        "        eval_set=(X_valid_fold, y_valid_fold),\n",
        "        cat_features=cat_features,\n",
        "        early_stopping_rounds=100,\n",
        "        use_best_model=True\n",
        "    )\n",
        "\n",
        "    test_probs = model.predict_proba(X_test)\n",
        "    all_test_probs += test_probs\n",
        "\n",
        "avg_test_probs = all_test_probs / kf.get_n_splits()\n",
        "prob_df = pd.DataFrame(avg_test_probs, columns=[0, 1, 2, 3, 4])\n",
        "prob_df['ID'] = test['ID'].values\n",
        "\n",
        "mean_probs = prob_df.groupby('ID').mean().reset_index()\n",
        "mean_probs['Segment'] = mean_probs[[0, 1, 2, 3, 4]].idxmax(axis=1)\n",
        "\n",
        "segment_mapping = {0: 'A', 1: 'B', 2: 'C', 3: 'D', 4: 'E'}\n",
        "mean_probs['Segment'] = mean_probs['Segment'].map(segment_mapping)\n",
        "\n",
        "a_ids = mean_probs.loc[mean_probs['Segment'] == 'A', 'ID'].tolist()\n",
        "\n",
        "print(f\"\\n✅ A로 분류된 ID 수 = {len(a_ids)}개\")\n",
        "print(f\"🔎 A ID: {a_ids[:50]}\")"
      ]
    },
    {
      "cell_type": "code",
      "source": [
        "train = pd.read_csv('/content/drive/MyDrive/base_file/train_vips_B.csv')\n",
        "test = pd.read_csv('/content/drive/MyDrive/base_file/test_vips_B.csv')\n",
        "\n",
        "label_encoder = LabelEncoder()\n",
        "train['Segment'] = label_encoder.fit_transform(train['Segment'])\n",
        "\n",
        "X = train.drop(columns=['Segment', 'ID'])\n",
        "y = train['Segment']\n",
        "X_test = test.drop(columns=['ID'])\n",
        "\n",
        "cat_features = [col for col in X.columns if X[col].dtype == 'object']\n",
        "for col in cat_features:\n",
        "    X[col] = X[col].astype(str)\n",
        "    X_test[col] = X_test[col].astype(str)\n",
        "\n",
        "params = {\n",
        "    'iterations': 1000,\n",
        "    'learning_rate': 0.03,\n",
        "    'depth': 8,\n",
        "    'loss_function': 'MultiClass',\n",
        "    'eval_metric': 'MultiClass',\n",
        "    'verbose': 100,\n",
        "    'random_seed': 42,\n",
        "    'task_type': 'GPU',\n",
        "    'class_weights': [10, 10, 1, 1, 1],\n",
        "}\n",
        "\n",
        "n_classes = 5\n",
        "kf = StratifiedKFold(n_splits=5, shuffle=True, random_state=42)\n",
        "\n",
        "print(f\"\\n🚀 단일 Model Run 시작\")\n",
        "\n",
        "all_test_probs = np.zeros((X_test.shape[0], n_classes))\n",
        "\n",
        "for fold, (train_idx, valid_idx) in enumerate(kf.split(X, y)):\n",
        "    print(f\"📂 Fold {fold + 1}\")\n",
        "\n",
        "    X_train_fold, X_valid_fold = X.iloc[train_idx], X.iloc[valid_idx]\n",
        "    y_train_fold, y_valid_fold = y.iloc[train_idx], y.iloc[valid_idx]\n",
        "\n",
        "    model = CatBoostClassifier(**params)\n",
        "    model.fit(\n",
        "        X_train_fold, y_train_fold,\n",
        "        eval_set=(X_valid_fold, y_valid_fold),\n",
        "        cat_features=cat_features,\n",
        "        early_stopping_rounds=100,\n",
        "        use_best_model=True\n",
        "    )\n",
        "\n",
        "    test_probs = model.predict_proba(X_test)\n",
        "    all_test_probs += test_probs\n",
        "\n",
        "avg_test_probs = all_test_probs / kf.get_n_splits()\n",
        "prob_df = pd.DataFrame(avg_test_probs, columns=[0, 1, 2, 3, 4])\n",
        "prob_df['ID'] = test['ID'].values\n",
        "\n",
        "mean_probs = prob_df.groupby('ID').mean().reset_index()\n",
        "mean_probs['Segment'] = mean_probs[[0, 1, 2, 3, 4]].idxmax(axis=1)\n",
        "\n",
        "segment_mapping = {0: 'A', 1: 'B', 2: 'C', 3: 'D', 4: 'E'}\n",
        "mean_probs['Segment'] = mean_probs['Segment'].map(segment_mapping)\n",
        "\n",
        "b_ids = mean_probs.loc[mean_probs['Segment'] == 'B', 'ID'].tolist()\n",
        "\n",
        "print(f\"\\n✅ B로 분류된 ID 수 = {len(b_ids)}개\")\n",
        "print(f\"🔎 B ID: {b_ids[:5]}\")"
      ],
      "metadata": {
        "colab": {
          "base_uri": "https://localhost:8080/"
        },
        "id": "ISxBfaEmMlwS",
        "outputId": "9ee1a237-525c-4681-a7a6-3c6f1b4d866b"
      },
      "execution_count": 10,
      "outputs": [
        {
          "output_type": "stream",
          "name": "stdout",
          "text": [
            "\n",
            "🚀 단일 Model Run 시작\n",
            "📂 Fold 1\n",
            "0:\tlearn: 1.5622260\ttest: 1.5625006\tbest: 1.5625006 (0)\ttotal: 39.2ms\tremaining: 39.2s\n",
            "100:\tlearn: 0.7247664\ttest: 0.7443114\tbest: 0.7443114 (100)\ttotal: 3.77s\tremaining: 33.5s\n",
            "200:\tlearn: 0.6400983\ttest: 0.6730284\tbest: 0.6730284 (200)\ttotal: 7.5s\tremaining: 29.8s\n",
            "300:\tlearn: 0.5942186\ttest: 0.6359288\tbest: 0.6359288 (300)\ttotal: 11.3s\tremaining: 26.2s\n",
            "400:\tlearn: 0.5583118\ttest: 0.6067227\tbest: 0.6067227 (400)\ttotal: 15.1s\tremaining: 22.5s\n",
            "500:\tlearn: 0.5287072\ttest: 0.5833666\tbest: 0.5833666 (500)\ttotal: 18.9s\tremaining: 18.8s\n",
            "600:\tlearn: 0.5014977\ttest: 0.5608973\tbest: 0.5608973 (600)\ttotal: 22.8s\tremaining: 15.1s\n",
            "700:\tlearn: 0.4787137\ttest: 0.5432790\tbest: 0.5432790 (700)\ttotal: 26.6s\tremaining: 11.4s\n",
            "800:\tlearn: 0.4573257\ttest: 0.5263010\tbest: 0.5263010 (800)\ttotal: 30.4s\tremaining: 7.56s\n",
            "900:\tlearn: 0.4385123\ttest: 0.5118517\tbest: 0.5118517 (900)\ttotal: 34.3s\tremaining: 3.76s\n",
            "999:\tlearn: 0.4204232\ttest: 0.4973259\tbest: 0.4973259 (999)\ttotal: 38s\tremaining: 0us\n",
            "bestTest = 0.4973259177\n",
            "bestIteration = 999\n",
            "📂 Fold 2\n",
            "0:\tlearn: 1.5622152\ttest: 1.5622255\tbest: 1.5622255 (0)\ttotal: 39.3ms\tremaining: 39.2s\n",
            "100:\tlearn: 0.7272076\ttest: 0.7414096\tbest: 0.7414096 (100)\ttotal: 3.79s\tremaining: 33.7s\n",
            "200:\tlearn: 0.6409831\ttest: 0.6662757\tbest: 0.6662757 (200)\ttotal: 7.52s\tremaining: 29.9s\n",
            "300:\tlearn: 0.5941590\ttest: 0.6279242\tbest: 0.6279242 (300)\ttotal: 11.3s\tremaining: 26.3s\n",
            "400:\tlearn: 0.5599225\ttest: 0.6013823\tbest: 0.6013823 (400)\ttotal: 15.2s\tremaining: 22.6s\n",
            "500:\tlearn: 0.5308537\ttest: 0.5779334\tbest: 0.5779334 (500)\ttotal: 18.9s\tremaining: 18.9s\n",
            "600:\tlearn: 0.5051639\ttest: 0.5584116\tbest: 0.5584116 (600)\ttotal: 22.8s\tremaining: 15.2s\n",
            "700:\tlearn: 0.4820540\ttest: 0.5403594\tbest: 0.5403594 (700)\ttotal: 26.7s\tremaining: 11.4s\n",
            "800:\tlearn: 0.4617901\ttest: 0.5245675\tbest: 0.5245675 (800)\ttotal: 30.5s\tremaining: 7.58s\n",
            "900:\tlearn: 0.4428907\ttest: 0.5096869\tbest: 0.5096869 (900)\ttotal: 34.3s\tremaining: 3.76s\n",
            "999:\tlearn: 0.4248558\ttest: 0.4955700\tbest: 0.4955700 (999)\ttotal: 38.1s\tremaining: 0us\n",
            "bestTest = 0.4955699669\n",
            "bestIteration = 999\n",
            "📂 Fold 3\n",
            "0:\tlearn: 1.5623196\ttest: 1.5629032\tbest: 1.5629032 (0)\ttotal: 41ms\tremaining: 40.9s\n",
            "100:\tlearn: 0.7257469\ttest: 0.7443742\tbest: 0.7443742 (100)\ttotal: 3.76s\tremaining: 33.5s\n",
            "200:\tlearn: 0.6396261\ttest: 0.6691184\tbest: 0.6691184 (200)\ttotal: 7.54s\tremaining: 30s\n",
            "300:\tlearn: 0.5942569\ttest: 0.6304601\tbest: 0.6304601 (300)\ttotal: 11.3s\tremaining: 26.2s\n",
            "400:\tlearn: 0.5604536\ttest: 0.6038088\tbest: 0.6038088 (400)\ttotal: 15.1s\tremaining: 22.6s\n",
            "500:\tlearn: 0.5316077\ttest: 0.5808991\tbest: 0.5808991 (500)\ttotal: 19s\tremaining: 18.9s\n",
            "600:\tlearn: 0.5062856\ttest: 0.5610383\tbest: 0.5610383 (600)\ttotal: 22.8s\tremaining: 15.1s\n",
            "700:\tlearn: 0.4831768\ttest: 0.5431082\tbest: 0.5431082 (700)\ttotal: 26.6s\tremaining: 11.3s\n",
            "800:\tlearn: 0.4621515\ttest: 0.5266491\tbest: 0.5266491 (800)\ttotal: 30.4s\tremaining: 7.55s\n",
            "900:\tlearn: 0.4421176\ttest: 0.5107497\tbest: 0.5107497 (900)\ttotal: 34.2s\tremaining: 3.76s\n",
            "999:\tlearn: 0.4249110\ttest: 0.4976620\tbest: 0.4976620 (999)\ttotal: 37.9s\tremaining: 0us\n",
            "bestTest = 0.4976620215\n",
            "bestIteration = 999\n",
            "📂 Fold 4\n",
            "0:\tlearn: 1.5622511\ttest: 1.5621276\tbest: 1.5621276 (0)\ttotal: 41.3ms\tremaining: 41.3s\n",
            "100:\tlearn: 0.7248271\ttest: 0.7418618\tbest: 0.7418618 (100)\ttotal: 3.78s\tremaining: 33.7s\n",
            "200:\tlearn: 0.6398236\ttest: 0.6700088\tbest: 0.6700088 (200)\ttotal: 7.57s\tremaining: 30.1s\n",
            "300:\tlearn: 0.5939326\ttest: 0.6323012\tbest: 0.6323012 (300)\ttotal: 11.3s\tremaining: 26.3s\n",
            "400:\tlearn: 0.5578755\ttest: 0.6023330\tbest: 0.6023330 (400)\ttotal: 15.1s\tremaining: 22.6s\n",
            "500:\tlearn: 0.5284022\ttest: 0.5788373\tbest: 0.5788373 (500)\ttotal: 19s\tremaining: 18.9s\n",
            "600:\tlearn: 0.5038282\ttest: 0.5598058\tbest: 0.5598058 (600)\ttotal: 22.8s\tremaining: 15.1s\n",
            "700:\tlearn: 0.4815179\ttest: 0.5420405\tbest: 0.5420405 (700)\ttotal: 26.7s\tremaining: 11.4s\n",
            "800:\tlearn: 0.4609146\ttest: 0.5256124\tbest: 0.5256124 (800)\ttotal: 30.5s\tremaining: 7.57s\n",
            "900:\tlearn: 0.4412609\ttest: 0.5099066\tbest: 0.5099066 (900)\ttotal: 34.3s\tremaining: 3.77s\n",
            "999:\tlearn: 0.4234516\ttest: 0.4957692\tbest: 0.4957692 (999)\ttotal: 38.2s\tremaining: 0us\n",
            "bestTest = 0.4957692188\n",
            "bestIteration = 999\n",
            "📂 Fold 5\n",
            "0:\tlearn: 1.5622883\ttest: 1.5626079\tbest: 1.5626079 (0)\ttotal: 40.8ms\tremaining: 40.7s\n",
            "100:\tlearn: 0.7260791\ttest: 0.7455203\tbest: 0.7455203 (100)\ttotal: 3.8s\tremaining: 33.8s\n",
            "200:\tlearn: 0.6414543\ttest: 0.6734450\tbest: 0.6734450 (200)\ttotal: 7.52s\tremaining: 29.9s\n",
            "300:\tlearn: 0.5959969\ttest: 0.6349465\tbest: 0.6349465 (300)\ttotal: 11.2s\tremaining: 26.1s\n",
            "400:\tlearn: 0.5611217\ttest: 0.6066821\tbest: 0.6066821 (400)\ttotal: 15s\tremaining: 22.5s\n",
            "500:\tlearn: 0.5304954\ttest: 0.5827098\tbest: 0.5827098 (500)\ttotal: 18.9s\tremaining: 18.8s\n",
            "600:\tlearn: 0.5046401\ttest: 0.5627564\tbest: 0.5627564 (600)\ttotal: 22.7s\tremaining: 15s\n",
            "700:\tlearn: 0.4820425\ttest: 0.5450570\tbest: 0.5450570 (700)\ttotal: 26.4s\tremaining: 11.3s\n",
            "800:\tlearn: 0.4606714\ttest: 0.5285793\tbest: 0.5285793 (800)\ttotal: 30.2s\tremaining: 7.51s\n",
            "900:\tlearn: 0.4402768\ttest: 0.5123877\tbest: 0.5123877 (900)\ttotal: 34s\tremaining: 3.73s\n",
            "999:\tlearn: 0.4230117\ttest: 0.4994891\tbest: 0.4994891 (999)\ttotal: 37.8s\tremaining: 0us\n",
            "bestTest = 0.4994891326\n",
            "bestIteration = 999\n",
            "\n",
            "✅ B로 분류된 ID 수 = 1개\n",
            "🔎 B ID: ['TEST_47520']\n"
          ]
        }
      ]
    },
    {
      "cell_type": "code",
      "source": [
        "base_df = pd.read_csv('/content/drive/MyDrive/base_file/base_catboost_kfold.csv')\n",
        "\n",
        "base_df.loc[base_df['ID'].isin(a_ids), 'Segment'] = 'A'\n",
        "base_df.loc[base_df['ID'].isin(b_ids), 'Segment'] = 'B'\n",
        "\n",
        "base_df.to_csv('/content/drive/MyDrive/base_file/final_catboost.csv', index=False)\n",
        "\n",
        "print(f\"✅ Segment가 'A'로 수정된 {len(a_ids)}개 ID 반영 완료\")\n",
        "print(f\"✅ Segment가 'B'로 수정된 {len(b_ids)}개 ID 반영 완료\")\n",
        "print(\"🎯 최종 결과 저장 완료: final_catboost.csv\")"
      ],
      "metadata": {
        "colab": {
          "base_uri": "https://localhost:8080/"
        },
        "id": "mB5UpLWDXVUi",
        "outputId": "0c55772d-2a73-41d3-b7b3-799079c06ead"
      },
      "execution_count": 15,
      "outputs": [
        {
          "output_type": "stream",
          "name": "stdout",
          "text": [
            "✅ Segment가 'A'로 수정된 40개 ID 반영 완료\n",
            "✅ Segment가 'B'로 수정된 1개 ID 반영 완료\n",
            "🎯 최종 결과 저장 완료: final_catboost.csv\n"
          ]
        }
      ]
    }
  ],
  "metadata": {
    "colab": {
      "machine_shape": "hm",
      "provenance": [],
      "gpuType": "L4"
    },
    "kernelspec": {
      "display_name": "Python 3",
      "name": "python3"
    },
    "language_info": {
      "name": "python"
    },
    "accelerator": "GPU"
  },
  "nbformat": 4,
  "nbformat_minor": 0
}